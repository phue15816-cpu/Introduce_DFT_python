{
  "nbformat": 4,
  "nbformat_minor": 0,
  "metadata": {
    "colab": {
      "provenance": []
    },
    "kernelspec": {
      "name": "python3",
      "display_name": "Python 3"
    },
    "language_info": {
      "name": "python"
    }
  },
  "cells": [
    {
      "cell_type": "code",
      "execution_count": null,
      "metadata": {
        "id": "uy5nYnGQ8L40"
      },
      "outputs": [],
      "source": []
    },
    {
      "cell_type": "markdown",
      "source": [
        "Data type in Python\n",
        "\n",
        "*Float*"
      ],
      "metadata": {
        "id": "snt1isXS_Wfv"
      }
    },
    {
      "cell_type": "code",
      "source": [
        "a = 1.7\n",
        "type(a)\n"
      ],
      "metadata": {
        "colab": {
          "base_uri": "https://localhost:8080/"
        },
        "id": "jlMzlrb9_boW",
        "outputId": "9e75dfdd-3b4a-458e-f302-8bc7a00c3bd6"
      },
      "execution_count": null,
      "outputs": [
        {
          "output_type": "execute_result",
          "data": {
            "text/plain": [
              "float"
            ]
          },
          "metadata": {},
          "execution_count": 1
        }
      ]
    },
    {
      "cell_type": "markdown",
      "source": [
        "Complex numbers"
      ],
      "metadata": {
        "id": "0uJdmitH_q_6"
      }
    },
    {
      "cell_type": "code",
      "source": [
        "a = 0.5+0.5j\n",
        "type(a)"
      ],
      "metadata": {
        "colab": {
          "base_uri": "https://localhost:8080/"
        },
        "id": "RpjLxg88_mbC",
        "outputId": "550fa3ac-5c78-4aee-a219-76db251b4dda"
      },
      "execution_count": null,
      "outputs": [
        {
          "output_type": "execute_result",
          "data": {
            "text/plain": [
              "complex"
            ]
          },
          "metadata": {},
          "execution_count": 108
        }
      ]
    },
    {
      "cell_type": "markdown",
      "source": [
        "Integer"
      ],
      "metadata": {
        "id": "txWHCSJ7_zJO"
      }
    },
    {
      "cell_type": "code",
      "source": [
        "a = 1\n",
        "type(a)"
      ],
      "metadata": {
        "colab": {
          "base_uri": "https://localhost:8080/"
        },
        "id": "7B8yeQxi_x0X",
        "outputId": "475b8fe3-90b0-450e-8aea-7664d2b15d2d"
      },
      "execution_count": null,
      "outputs": [
        {
          "output_type": "execute_result",
          "data": {
            "text/plain": [
              "int"
            ]
          },
          "metadata": {},
          "execution_count": 3
        }
      ]
    },
    {
      "cell_type": "markdown",
      "source": [
        "data type is dynamic."
      ],
      "metadata": {
        "id": "uJj5AxJH_5cj"
      }
    },
    {
      "cell_type": "code",
      "source": [
        "a = 1.0\n",
        "print(type(a))\n",
        "a=int(a)\n",
        "print(type(a))"
      ],
      "metadata": {
        "colab": {
          "base_uri": "https://localhost:8080/"
        },
        "id": "mS2ELjmR_3i4",
        "outputId": "6c27cb9e-3b70-4a98-f9cf-64c15c1c9fec"
      },
      "execution_count": null,
      "outputs": [
        {
          "output_type": "stream",
          "name": "stdout",
          "text": [
            "<class 'float'>\n",
            "<class 'int'>\n"
          ]
        }
      ]
    },
    {
      "cell_type": "markdown",
      "source": [
        "From integer to float"
      ],
      "metadata": {
        "id": "XWmaJgK-AJOz"
      }
    },
    {
      "cell_type": "code",
      "source": [
        "b=float(a)\n",
        "type(b)"
      ],
      "metadata": {
        "colab": {
          "base_uri": "https://localhost:8080/"
        },
        "id": "IH0u09ZcAAeX",
        "outputId": "1b89b394-3645-42a2-afed-d36210e0ce6a"
      },
      "execution_count": null,
      "outputs": [
        {
          "output_type": "execute_result",
          "data": {
            "text/plain": [
              "float"
            ]
          },
          "metadata": {},
          "execution_count": 6
        }
      ]
    },
    {
      "cell_type": "markdown",
      "source": [
        "String"
      ],
      "metadata": {
        "id": "vOW7-1WhAVEf"
      }
    },
    {
      "cell_type": "code",
      "source": [
        "a ='string'\n",
        "type(a)"
      ],
      "metadata": {
        "colab": {
          "base_uri": "https://localhost:8080/"
        },
        "id": "dbYLIMoDASXQ",
        "outputId": "61111544-81e4-4293-ad5c-b237274515ad"
      },
      "execution_count": null,
      "outputs": [
        {
          "output_type": "execute_result",
          "data": {
            "text/plain": [
              "str"
            ]
          },
          "metadata": {},
          "execution_count": 8
        }
      ]
    },
    {
      "cell_type": "markdown",
      "source": [
        "When you compare statements: Boolean"
      ],
      "metadata": {
        "id": "ratXyAzUAgtf"
      }
    },
    {
      "cell_type": "code",
      "source": [
        "3==4"
      ],
      "metadata": {
        "colab": {
          "base_uri": "https://localhost:8080/"
        },
        "id": "28sX7PeHAb3B",
        "outputId": "c2528a99-3f8b-4b6a-8369-af937fa528df"
      },
      "execution_count": null,
      "outputs": [
        {
          "output_type": "execute_result",
          "data": {
            "text/plain": [
              "False"
            ]
          },
          "metadata": {},
          "execution_count": 9
        }
      ]
    },
    {
      "cell_type": "code",
      "source": [
        "3==3"
      ],
      "metadata": {
        "colab": {
          "base_uri": "https://localhost:8080/"
        },
        "id": "C0o6lx-0ApM7",
        "outputId": "70aa5583-4b42-45db-8f6d-7e89e3a20c31"
      },
      "execution_count": null,
      "outputs": [
        {
          "output_type": "execute_result",
          "data": {
            "text/plain": [
              "True"
            ]
          },
          "metadata": {},
          "execution_count": 10
        }
      ]
    },
    {
      "cell_type": "markdown",
      "source": [
        "List"
      ],
      "metadata": {
        "id": "vt4SREbnAsMZ"
      }
    },
    {
      "cell_type": "code",
      "source": [
        "a=[1,2,3,4,'5', []]\n",
        "type(a)"
      ],
      "metadata": {
        "colab": {
          "base_uri": "https://localhost:8080/"
        },
        "id": "U18F7rHRAqOg",
        "outputId": "30c2ee53-3ca8-4bba-ee93-e7576c8524c5"
      },
      "execution_count": null,
      "outputs": [
        {
          "output_type": "execute_result",
          "data": {
            "text/plain": [
              "list"
            ]
          },
          "metadata": {},
          "execution_count": 11
        }
      ]
    },
    {
      "cell_type": "markdown",
      "source": [
        "Elements of list can be anything. Be aware of the fact that it starts from 0"
      ],
      "metadata": {
        "id": "DwCzo22KA5D3"
      }
    },
    {
      "cell_type": "code",
      "source": [
        "print(a[0])\n",
        "type(a[0])"
      ],
      "metadata": {
        "colab": {
          "base_uri": "https://localhost:8080/"
        },
        "id": "C8ZDrmfDA15F",
        "outputId": "9f7c522a-6b50-4c5c-86d0-b591b9f21a5c"
      },
      "execution_count": null,
      "outputs": [
        {
          "output_type": "stream",
          "name": "stdout",
          "text": [
            "1\n"
          ]
        },
        {
          "output_type": "execute_result",
          "data": {
            "text/plain": [
              "int"
            ]
          },
          "metadata": {},
          "execution_count": 12
        }
      ]
    },
    {
      "cell_type": "code",
      "source": [
        "type(a[4])"
      ],
      "metadata": {
        "colab": {
          "base_uri": "https://localhost:8080/"
        },
        "id": "HqqYfiQ7BRDh",
        "outputId": "0453092e-7ac0-45bb-ea74-073d9fe08810"
      },
      "execution_count": null,
      "outputs": [
        {
          "output_type": "execute_result",
          "data": {
            "text/plain": [
              "str"
            ]
          },
          "metadata": {},
          "execution_count": 13
        }
      ]
    },
    {
      "cell_type": "markdown",
      "source": [
        "The index of the last element is -1"
      ],
      "metadata": {
        "id": "sCAAt3nwBY3Z"
      }
    },
    {
      "cell_type": "code",
      "source": [
        "type(a[-1])"
      ],
      "metadata": {
        "colab": {
          "base_uri": "https://localhost:8080/"
        },
        "id": "wpHqs-jWBg8k",
        "outputId": "726dc638-d36d-46ff-b005-256acf773667"
      },
      "execution_count": null,
      "outputs": [
        {
          "output_type": "execute_result",
          "data": {
            "text/plain": [
              "list"
            ]
          },
          "metadata": {},
          "execution_count": 14
        }
      ]
    },
    {
      "cell_type": "markdown",
      "source": [
        "you can change the elements in a list"
      ],
      "metadata": {
        "id": "Y0WBAxhfBtJc"
      }
    },
    {
      "cell_type": "code",
      "source": [
        "print(a)\n",
        "a[4]='new'\n",
        "print(a)"
      ],
      "metadata": {
        "colab": {
          "base_uri": "https://localhost:8080/"
        },
        "id": "zfuDHItqB1_n",
        "outputId": "d1d4234e-f10b-45e9-c1b5-980fb447baef"
      },
      "execution_count": null,
      "outputs": [
        {
          "output_type": "stream",
          "name": "stdout",
          "text": [
            "[1, 2, 3, 4, '5', []]\n",
            "[1, 2, 3, 4, 'new', []]\n"
          ]
        }
      ]
    },
    {
      "cell_type": "markdown",
      "source": [
        "Tuple is different.It's element can not be changed"
      ],
      "metadata": {
        "id": "_2hnlO1SCS56"
      }
    },
    {
      "cell_type": "code",
      "source": [
        "b=(1,2,3,4)\n",
        "print(b)"
      ],
      "metadata": {
        "colab": {
          "base_uri": "https://localhost:8080/"
        },
        "id": "WJWTAPMtCSOo",
        "outputId": "2a2292cb-86a1-4117-e1da-67eab7575b06"
      },
      "execution_count": null,
      "outputs": [
        {
          "output_type": "stream",
          "name": "stdout",
          "text": [
            "(1, 2, 3, 4)\n"
          ]
        }
      ]
    },
    {
      "cell_type": "code",
      "source": [
        "b(0)= 100"
      ],
      "metadata": {
        "colab": {
          "base_uri": "https://localhost:8080/",
          "height": 109
        },
        "id": "2oI0UozdB84u",
        "outputId": "aadc5b92-e1fe-4bf9-ecc8-c7c44126dc1f"
      },
      "execution_count": null,
      "outputs": [
        {
          "output_type": "error",
          "ename": "SyntaxError",
          "evalue": "cannot assign to function call here. Maybe you meant '==' instead of '='? (ipython-input-2382915751.py, line 1)",
          "traceback": [
            "\u001b[0;36m  File \u001b[0;32m\"/tmp/ipython-input-2382915751.py\"\u001b[0;36m, line \u001b[0;32m1\u001b[0m\n\u001b[0;31m    b(0)= 100\u001b[0m\n\u001b[0m    ^\u001b[0m\n\u001b[0;31mSyntaxError\u001b[0m\u001b[0;31m:\u001b[0m cannot assign to function call here. Maybe you meant '==' instead of '='?\n"
          ]
        }
      ]
    },
    {
      "cell_type": "markdown",
      "source": [
        "A dictionary is composed of keys and values"
      ],
      "metadata": {
        "id": "EGObG_rECtxb"
      }
    },
    {
      "cell_type": "code",
      "source": [
        "d={'hight':173.0, 'id':20030234, 24:True}\n",
        "print(d)"
      ],
      "metadata": {
        "colab": {
          "base_uri": "https://localhost:8080/"
        },
        "id": "Rx06CmTqCegx",
        "outputId": "3a7f2ed0-8ac7-4e1d-8b22-163bf78aec55"
      },
      "execution_count": null,
      "outputs": [
        {
          "output_type": "stream",
          "name": "stdout",
          "text": [
            "{'hight': 173.0, 'id': 20030234, 24: True}\n"
          ]
        }
      ]
    },
    {
      "cell_type": "code",
      "source": [
        "d[\"hight\"]"
      ],
      "metadata": {
        "colab": {
          "base_uri": "https://localhost:8080/"
        },
        "id": "isXaXKOxDBLt",
        "outputId": "accfd2d0-831b-40e2-ec7a-58c038f60133"
      },
      "execution_count": null,
      "outputs": [
        {
          "output_type": "execute_result",
          "data": {
            "text/plain": [
              "173.0"
            ]
          },
          "metadata": {},
          "execution_count": 20
        }
      ]
    },
    {
      "cell_type": "code",
      "source": [
        "d[24]"
      ],
      "metadata": {
        "colab": {
          "base_uri": "https://localhost:8080/"
        },
        "id": "F3SiDChNDK95",
        "outputId": "3e8a79f8-7bea-4198-d2d5-2ac606459142"
      },
      "execution_count": null,
      "outputs": [
        {
          "output_type": "execute_result",
          "data": {
            "text/plain": [
              "True"
            ]
          },
          "metadata": {},
          "execution_count": 21
        }
      ]
    },
    {
      "cell_type": "markdown",
      "source": [
        "Distionary is also dynamic."
      ],
      "metadata": {
        "id": "SpfliFtyDS5Y"
      }
    },
    {
      "cell_type": "code",
      "source": [
        "d[\"id\"]=20070234\n",
        "print(d[\"id\"])"
      ],
      "metadata": {
        "colab": {
          "base_uri": "https://localhost:8080/"
        },
        "id": "13--VHP9DMFR",
        "outputId": "18ce718a-da6b-4083-a32e-3635c99ad0de"
      },
      "execution_count": null,
      "outputs": [
        {
          "output_type": "stream",
          "name": "stdout",
          "text": [
            "20070234\n"
          ]
        }
      ]
    },
    {
      "cell_type": "markdown",
      "source": [
        "To add a pair of key and value"
      ],
      "metadata": {
        "id": "akVJ55XgDygB"
      }
    },
    {
      "cell_type": "code",
      "source": [
        "d[\"x\"]= 13\n",
        "print(d[\"x\"])\n",
        "print(d)"
      ],
      "metadata": {
        "colab": {
          "base_uri": "https://localhost:8080/"
        },
        "id": "hMUXWh64DhZ3",
        "outputId": "12fd695d-004e-496f-e34e-aa01b9c9aefb"
      },
      "execution_count": null,
      "outputs": [
        {
          "output_type": "stream",
          "name": "stdout",
          "text": [
            "13\n",
            "{'hight': 173.0, 'id': 20070234, 24: True, 'x': 13}\n"
          ]
        }
      ]
    },
    {
      "cell_type": "markdown",
      "source": [
        "Most of data types in Python is dynamic.\n"
      ],
      "metadata": {
        "id": "W3DN8xm5ENWc"
      }
    },
    {
      "cell_type": "code",
      "source": [
        "x = 3.0\n",
        "print(x)"
      ],
      "metadata": {
        "colab": {
          "base_uri": "https://localhost:8080/"
        },
        "id": "_tazCAASEGED",
        "outputId": "e1282652-9247-4dd7-d128-aa45ddb45855"
      },
      "execution_count": null,
      "outputs": [
        {
          "output_type": "stream",
          "name": "stdout",
          "text": [
            "3.0\n"
          ]
        }
      ]
    },
    {
      "cell_type": "code",
      "source": [
        "x= 'you can change it dynamically'\n",
        "print(x)"
      ],
      "metadata": {
        "colab": {
          "base_uri": "https://localhost:8080/"
        },
        "id": "NclhyUOWEZou",
        "outputId": "ba6fcd03-9a6d-4034-86a8-ad3722a07fc3"
      },
      "execution_count": null,
      "outputs": [
        {
          "output_type": "stream",
          "name": "stdout",
          "text": [
            "you can change it dynamically\n"
          ]
        }
      ]
    },
    {
      "cell_type": "markdown",
      "source": [
        "If you want to wrap the values"
      ],
      "metadata": {
        "id": "ILqyZAx5EoRx"
      }
    },
    {
      "cell_type": "code",
      "source": [
        "x = 3.0\n",
        "y = 4.0\n",
        "print('x is', x,'and y is', y)\n",
        "x, y = y, x\n",
        "print('x is', x, 'and y is', y)"
      ],
      "metadata": {
        "colab": {
          "base_uri": "https://localhost:8080/"
        },
        "id": "42u4mZZXEmGS",
        "outputId": "7a5e1cb9-f60c-48a7-a275-84a25d7ce830"
      },
      "execution_count": null,
      "outputs": [
        {
          "output_type": "stream",
          "name": "stdout",
          "text": [
            "x is 3.0 and y is 4.0\n",
            "x is 4.0 and y is 3.0\n"
          ]
        }
      ]
    },
    {
      "cell_type": "markdown",
      "source": [
        "List is really useful"
      ],
      "metadata": {
        "id": "p5EjFRC-FJdQ"
      }
    },
    {
      "cell_type": "code",
      "source": [
        "a = range(5)\n",
        "print(a)"
      ],
      "metadata": {
        "colab": {
          "base_uri": "https://localhost:8080/"
        },
        "id": "DjN07wQfFFJV",
        "outputId": "2c6b1606-4e7d-4726-c7cd-133658f33199"
      },
      "execution_count": null,
      "outputs": [
        {
          "output_type": "stream",
          "name": "stdout",
          "text": [
            "range(0, 5)\n"
          ]
        }
      ]
    },
    {
      "cell_type": "code",
      "source": [
        "a = list(a)\n",
        "print(a)"
      ],
      "metadata": {
        "colab": {
          "base_uri": "https://localhost:8080/"
        },
        "id": "FEI9E-STFQmr",
        "outputId": "8b3c7e7c-1caf-48bc-d932-88221f0562e2"
      },
      "execution_count": null,
      "outputs": [
        {
          "output_type": "stream",
          "name": "stdout",
          "text": [
            "[0, 1, 2, 3, 4]\n"
          ]
        }
      ]
    },
    {
      "cell_type": "markdown",
      "source": [
        "If you want to add an item at the end"
      ],
      "metadata": {
        "id": "txjolZq4Fe2w"
      }
    },
    {
      "cell_type": "code",
      "source": [
        "a.append(5)\n",
        "print(a)"
      ],
      "metadata": {
        "colab": {
          "base_uri": "https://localhost:8080/"
        },
        "id": "UES05LpcFZbo",
        "outputId": "57f03624-536c-4d7d-90d8-e074b58493b2"
      },
      "execution_count": null,
      "outputs": [
        {
          "output_type": "stream",
          "name": "stdout",
          "text": [
            "[0, 1, 2, 3, 4, 5]\n"
          ]
        }
      ]
    },
    {
      "cell_type": "markdown",
      "source": [
        "Another way"
      ],
      "metadata": {
        "id": "0uK5BWE0FtRM"
      }
    },
    {
      "cell_type": "code",
      "source": [
        "a = a + [1]\n",
        "print(a)"
      ],
      "metadata": {
        "colab": {
          "base_uri": "https://localhost:8080/"
        },
        "id": "mnNzAzITFl6c",
        "outputId": "5b3cf693-98c4-43b3-9030-095d4179fe3f"
      },
      "execution_count": null,
      "outputs": [
        {
          "output_type": "stream",
          "name": "stdout",
          "text": [
            "[0, 1, 2, 3, 4, 5, 1]\n"
          ]
        }
      ]
    },
    {
      "cell_type": "markdown",
      "source": [
        "If you want to put something at a specific position"
      ],
      "metadata": {
        "id": "3zMUlmEDF2M0"
      }
    },
    {
      "cell_type": "code",
      "source": [
        "a.insert(1,1.5)\n",
        "print(a)"
      ],
      "metadata": {
        "colab": {
          "base_uri": "https://localhost:8080/"
        },
        "id": "h3IPUTbKFzxS",
        "outputId": "95b7961a-141a-4c84-dacd-73dc7f806ed8"
      },
      "execution_count": null,
      "outputs": [
        {
          "output_type": "stream",
          "name": "stdout",
          "text": [
            "[0, 1.5, 1, 2, 3, 4, 5, 1]\n"
          ]
        }
      ]
    },
    {
      "cell_type": "markdown",
      "source": [
        "if you want to extract an item"
      ],
      "metadata": {
        "id": "FP0yCYZ1GG-k"
      }
    },
    {
      "cell_type": "code",
      "source": [
        "print(a)\n",
        "b = a.pop(1)\n",
        "print(b)"
      ],
      "metadata": {
        "colab": {
          "base_uri": "https://localhost:8080/"
        },
        "id": "YHfa7F3PGEC2",
        "outputId": "20e6fcef-4e48-4921-9c6d-482704e3444a"
      },
      "execution_count": null,
      "outputs": [
        {
          "output_type": "stream",
          "name": "stdout",
          "text": [
            "[0, 1.5, 1, 2, 3, 4, 5, 1]\n",
            "1.5\n"
          ]
        }
      ]
    },
    {
      "cell_type": "code",
      "source": [
        "a=[3,2,1]\n",
        "a.remove(3)\n",
        "print(a)"
      ],
      "metadata": {
        "colab": {
          "base_uri": "https://localhost:8080/"
        },
        "id": "KomOCecPGZ5n",
        "outputId": "8e8cf69c-bf53-42ce-ae62-f760bece70d9"
      },
      "execution_count": null,
      "outputs": [
        {
          "output_type": "stream",
          "name": "stdout",
          "text": [
            "[2, 1]\n"
          ]
        }
      ]
    },
    {
      "cell_type": "markdown",
      "source": [
        "If you want to delete something at a specific position"
      ],
      "metadata": {
        "id": "k2lRHHO2GpI5"
      }
    },
    {
      "cell_type": "code",
      "source": [
        "a = [3, 2, 1]\n",
        "del a[1]\n",
        "print(a)"
      ],
      "metadata": {
        "colab": {
          "base_uri": "https://localhost:8080/"
        },
        "id": "vjeK3_w6Gm0l",
        "outputId": "30d08e15-bbc6-4879-a65e-b76386d51020"
      },
      "execution_count": null,
      "outputs": [
        {
          "output_type": "stream",
          "name": "stdout",
          "text": [
            "[3, 1]\n"
          ]
        }
      ]
    },
    {
      "cell_type": "markdown",
      "source": [
        "Rename"
      ],
      "metadata": {
        "id": "oHGeABqYHD3b"
      }
    },
    {
      "cell_type": "code",
      "source": [
        "b = [1,2,3,4,5]\n",
        "a=b\n",
        "print(a)\n"
      ],
      "metadata": {
        "colab": {
          "base_uri": "https://localhost:8080/"
        },
        "id": "n_Fc9cRDG0Js",
        "outputId": "7e1deeab-23aa-4340-9f07-36d9092ad9dc"
      },
      "execution_count": null,
      "outputs": [
        {
          "output_type": "stream",
          "name": "stdout",
          "text": [
            "[1, 2, 3, 4, 5]\n"
          ]
        }
      ]
    },
    {
      "cell_type": "code",
      "source": [
        "b[1] = 100\n",
        "print(b)"
      ],
      "metadata": {
        "colab": {
          "base_uri": "https://localhost:8080/"
        },
        "id": "J9jGzoPDHQ7_",
        "outputId": "851fba76-2802-4d8d-d326-623ad737c899"
      },
      "execution_count": null,
      "outputs": [
        {
          "output_type": "stream",
          "name": "stdout",
          "text": [
            "[1, 100, 3, 4, 5]\n"
          ]
        }
      ]
    },
    {
      "cell_type": "markdown",
      "source": [
        "In this case, b and a are identical so..."
      ],
      "metadata": {
        "id": "aqnUGkE-HesZ"
      }
    },
    {
      "cell_type": "code",
      "source": [
        "print(a)"
      ],
      "metadata": {
        "colab": {
          "base_uri": "https://localhost:8080/"
        },
        "id": "A7mvE_I3Hdho",
        "outputId": "1d550fec-7683-46b5-826e-aa89ca51eb0f"
      },
      "execution_count": null,
      "outputs": [
        {
          "output_type": "stream",
          "name": "stdout",
          "text": [
            "[1, 100, 3, 4, 5]\n"
          ]
        }
      ]
    },
    {
      "cell_type": "markdown",
      "source": [
        "If you want to copy"
      ],
      "metadata": {
        "id": "gPkEsb-zHqUi"
      }
    },
    {
      "cell_type": "code",
      "source": [
        "import copy"
      ],
      "metadata": {
        "id": "uFSNY06THnMq"
      },
      "execution_count": null,
      "outputs": []
    },
    {
      "cell_type": "code",
      "source": [
        "a = copy.copy(b)\n",
        "b[1]= 300\n",
        "print(b)"
      ],
      "metadata": {
        "colab": {
          "base_uri": "https://localhost:8080/"
        },
        "id": "O5-RBCCkHx4b",
        "outputId": "a1e42d77-7221-4cbe-b0ed-f29db6342dea"
      },
      "execution_count": null,
      "outputs": [
        {
          "output_type": "stream",
          "name": "stdout",
          "text": [
            "[1, 300, 3, 4, 5]\n"
          ]
        }
      ]
    },
    {
      "cell_type": "code",
      "source": [
        "print(a)"
      ],
      "metadata": {
        "colab": {
          "base_uri": "https://localhost:8080/"
        },
        "id": "0_4SkhKGH6EZ",
        "outputId": "8b8fbc58-77c2-403d-8c59-96094aa89890"
      },
      "execution_count": null,
      "outputs": [
        {
          "output_type": "stream",
          "name": "stdout",
          "text": [
            "[1, 100, 3, 4, 5]\n"
          ]
        }
      ]
    },
    {
      "cell_type": "markdown",
      "source": [
        "Arthmetic"
      ],
      "metadata": {
        "id": "elqXzjnHIMK1"
      }
    },
    {
      "cell_type": "code",
      "source": [
        "3+1"
      ],
      "metadata": {
        "colab": {
          "base_uri": "https://localhost:8080/"
        },
        "id": "jD2DVL_QH7PZ",
        "outputId": "5f95f35e-bab9-452f-ba45-e3927cf84e3e"
      },
      "execution_count": null,
      "outputs": [
        {
          "output_type": "execute_result",
          "data": {
            "text/plain": [
              "4"
            ]
          },
          "metadata": {},
          "execution_count": 43
        }
      ]
    },
    {
      "cell_type": "code",
      "source": [
        "3-6"
      ],
      "metadata": {
        "colab": {
          "base_uri": "https://localhost:8080/"
        },
        "id": "t3CdG7OeIPVp",
        "outputId": "03e211b0-be45-4afa-e0ee-4e3a83852a28"
      },
      "execution_count": null,
      "outputs": [
        {
          "output_type": "execute_result",
          "data": {
            "text/plain": [
              "-3"
            ]
          },
          "metadata": {},
          "execution_count": 44
        }
      ]
    },
    {
      "cell_type": "code",
      "source": [
        "4*4\n"
      ],
      "metadata": {
        "colab": {
          "base_uri": "https://localhost:8080/"
        },
        "id": "mHWaj8yVIQWD",
        "outputId": "fa5095d8-0dfd-4026-e840-2c32448ca065"
      },
      "execution_count": null,
      "outputs": [
        {
          "output_type": "execute_result",
          "data": {
            "text/plain": [
              "16"
            ]
          },
          "metadata": {},
          "execution_count": 45
        }
      ]
    },
    {
      "cell_type": "code",
      "source": [
        "3/4"
      ],
      "metadata": {
        "colab": {
          "base_uri": "https://localhost:8080/"
        },
        "id": "l6iV_X9YIUdF",
        "outputId": "58a163e6-8ab9-4d7c-d538-d263e61011db"
      },
      "execution_count": null,
      "outputs": [
        {
          "output_type": "execute_result",
          "data": {
            "text/plain": [
              "0.75"
            ]
          },
          "metadata": {},
          "execution_count": 46
        }
      ]
    },
    {
      "cell_type": "markdown",
      "source": [
        "Complex number"
      ],
      "metadata": {
        "id": "5hP0OICDIXYX"
      }
    },
    {
      "cell_type": "code",
      "source": [
        "3*(1+2j)"
      ],
      "metadata": {
        "colab": {
          "base_uri": "https://localhost:8080/"
        },
        "id": "foKhaHqjIVme",
        "outputId": "d07269b2-02f2-4bc4-8098-621afa03e779"
      },
      "execution_count": null,
      "outputs": [
        {
          "output_type": "execute_result",
          "data": {
            "text/plain": [
              "(3+6j)"
            ]
          },
          "metadata": {},
          "execution_count": 47
        }
      ]
    },
    {
      "cell_type": "code",
      "source": [
        "(1+3j)*(2-4j)"
      ],
      "metadata": {
        "colab": {
          "base_uri": "https://localhost:8080/"
        },
        "id": "lewqJS_RIbqN",
        "outputId": "df5be89e-89ac-416c-d3e4-96159cc2e14b"
      },
      "execution_count": null,
      "outputs": [
        {
          "output_type": "execute_result",
          "data": {
            "text/plain": [
              "(14+2j)"
            ]
          },
          "metadata": {},
          "execution_count": 48
        }
      ]
    },
    {
      "cell_type": "markdown",
      "source": [
        "The quotient can also be calculated"
      ],
      "metadata": {
        "id": "8cxbdKWkIkBb"
      }
    },
    {
      "cell_type": "code",
      "source": [
        "9//5"
      ],
      "metadata": {
        "colab": {
          "base_uri": "https://localhost:8080/"
        },
        "id": "YCJspEL6IhXr",
        "outputId": "dd72826f-7cf2-42aa-a896-67f13a40ac08"
      },
      "execution_count": null,
      "outputs": [
        {
          "output_type": "execute_result",
          "data": {
            "text/plain": [
              "1"
            ]
          },
          "metadata": {},
          "execution_count": 49
        }
      ]
    },
    {
      "cell_type": "markdown",
      "source": [
        "Quotient and remainder"
      ],
      "metadata": {
        "id": "jXGW69n7IrRv"
      }
    },
    {
      "cell_type": "code",
      "source": [
        "divmod(9,5)"
      ],
      "metadata": {
        "colab": {
          "base_uri": "https://localhost:8080/"
        },
        "id": "8yZ7FApxIpMA",
        "outputId": "ac96b014-17d1-46e6-fcf2-3ff691e865cf"
      },
      "execution_count": null,
      "outputs": [
        {
          "output_type": "execute_result",
          "data": {
            "text/plain": [
              "(1, 4)"
            ]
          },
          "metadata": {},
          "execution_count": 50
        }
      ]
    },
    {
      "cell_type": "markdown",
      "source": [
        "Fractions\n"
      ],
      "metadata": {
        "id": "1H4pwBeuI3P3"
      }
    },
    {
      "cell_type": "code",
      "source": [
        "from fractions import Fraction\n",
        "Fraction(3,4)"
      ],
      "metadata": {
        "colab": {
          "base_uri": "https://localhost:8080/"
        },
        "id": "Dc5mzjWMI0yD",
        "outputId": "9d3a02f1-d8d7-4020-9036-59260f509df9"
      },
      "execution_count": null,
      "outputs": [
        {
          "output_type": "execute_result",
          "data": {
            "text/plain": [
              "Fraction(3, 4)"
            ]
          },
          "metadata": {},
          "execution_count": 51
        }
      ]
    },
    {
      "cell_type": "code",
      "source": [
        "Fraction(3,4)+1"
      ],
      "metadata": {
        "colab": {
          "base_uri": "https://localhost:8080/"
        },
        "id": "5dX3DBM8JF1A",
        "outputId": "1f911464-4d78-4c5d-e5db-e59c14419eba"
      },
      "execution_count": null,
      "outputs": [
        {
          "output_type": "execute_result",
          "data": {
            "text/plain": [
              "Fraction(7, 4)"
            ]
          },
          "metadata": {},
          "execution_count": 52
        }
      ]
    },
    {
      "cell_type": "code",
      "source": [
        "Fraction(3,4)*Fraction(5,2)"
      ],
      "metadata": {
        "colab": {
          "base_uri": "https://localhost:8080/"
        },
        "id": "G7CghjHIJNaS",
        "outputId": "d98054df-59dd-4346-c83e-a3c5bcb0d7b6"
      },
      "execution_count": null,
      "outputs": [
        {
          "output_type": "execute_result",
          "data": {
            "text/plain": [
              "Fraction(15, 8)"
            ]
          },
          "metadata": {},
          "execution_count": 53
        }
      ]
    },
    {
      "cell_type": "markdown",
      "source": [
        "To find a fraction that is close to a given number"
      ],
      "metadata": {
        "id": "LLbf133NJdrB"
      }
    },
    {
      "cell_type": "code",
      "source": [
        "Fraction('3.14159').limit_denominator(1000)"
      ],
      "metadata": {
        "colab": {
          "base_uri": "https://localhost:8080/"
        },
        "id": "pk5RwvCNJblN",
        "outputId": "ce249655-6434-412e-a22b-5b4942ba0403"
      },
      "execution_count": null,
      "outputs": [
        {
          "output_type": "execute_result",
          "data": {
            "text/plain": [
              "Fraction(355, 113)"
            ]
          },
          "metadata": {},
          "execution_count": 54
        }
      ]
    },
    {
      "cell_type": "markdown",
      "source": [
        "Let's perform an operation on a string"
      ],
      "metadata": {
        "id": "c3_vLYfaJ4z4"
      }
    },
    {
      "cell_type": "code",
      "source": [
        "'Jupyter'+'Lab'"
      ],
      "metadata": {
        "colab": {
          "base_uri": "https://localhost:8080/",
          "height": 36
        },
        "id": "_d85g5tMJ3Ov",
        "outputId": "add65e8c-061a-4065-c365-0c401673e438"
      },
      "execution_count": null,
      "outputs": [
        {
          "output_type": "execute_result",
          "data": {
            "text/plain": [
              "'JupyterLab'"
            ],
            "application/vnd.google.colaboratory.intrinsic+json": {
              "type": "string"
            }
          },
          "metadata": {},
          "execution_count": 55
        }
      ]
    },
    {
      "cell_type": "code",
      "source": [
        "5*\"Jupyter\""
      ],
      "metadata": {
        "colab": {
          "base_uri": "https://localhost:8080/",
          "height": 36
        },
        "id": "Pqf4B7R7KBnC",
        "outputId": "dfac07fc-374b-4bc5-eb68-496070694a82"
      },
      "execution_count": null,
      "outputs": [
        {
          "output_type": "execute_result",
          "data": {
            "text/plain": [
              "'JupyterJupyterJupyterJupyterJupyter'"
            ],
            "application/vnd.google.colaboratory.intrinsic+json": {
              "type": "string"
            }
          },
          "metadata": {},
          "execution_count": 56
        }
      ]
    },
    {
      "cell_type": "markdown",
      "source": [
        "How about for the list?"
      ],
      "metadata": {
        "id": "WHvbMqH0KH8N"
      }
    },
    {
      "cell_type": "code",
      "source": [
        "[1,2,3]+[4]"
      ],
      "metadata": {
        "colab": {
          "base_uri": "https://localhost:8080/"
        },
        "id": "-hperNs4KFwa",
        "outputId": "19e02773-098c-4504-8d10-a68cdf74c658"
      },
      "execution_count": null,
      "outputs": [
        {
          "output_type": "execute_result",
          "data": {
            "text/plain": [
              "[1, 2, 3, 4]"
            ]
          },
          "metadata": {},
          "execution_count": 57
        }
      ]
    },
    {
      "cell_type": "code",
      "source": [
        "5*[1,2,'3']"
      ],
      "metadata": {
        "colab": {
          "base_uri": "https://localhost:8080/"
        },
        "id": "9GNclHwpKMzm",
        "outputId": "0666c3ed-6259-4e2a-fbc1-6941cd4c60bb"
      },
      "execution_count": null,
      "outputs": [
        {
          "output_type": "execute_result",
          "data": {
            "text/plain": [
              "[1, 2, '3', 1, 2, '3', 1, 2, '3', 1, 2, '3', 1, 2, '3']"
            ]
          },
          "metadata": {},
          "execution_count": 58
        }
      ]
    },
    {
      "cell_type": "markdown",
      "source": [
        "Can you check which value is the most common in a list?"
      ],
      "metadata": {
        "id": "4tzYD8xvKU9E"
      }
    },
    {
      "cell_type": "code",
      "source": [
        "alist=[1,2,3,3,'3']\n",
        "from collections import Counter\n",
        "x = Counter(alist)\n",
        "print(x.most_common())\n",
        "print(x.most_common(1))\n",
        "print(x.most_common(1)[0])\n",
        "print(type(x.most_common(1)[0]))\n",
        "print(x.most_common(1)[0][0])\n"
      ],
      "metadata": {
        "colab": {
          "base_uri": "https://localhost:8080/"
        },
        "id": "cERfZBl_KS79",
        "outputId": "e41cac43-ab29-4ae3-d06b-0131933e4592"
      },
      "execution_count": null,
      "outputs": [
        {
          "output_type": "stream",
          "name": "stdout",
          "text": [
            "[(3, 2), (1, 1), (2, 1), ('3', 1)]\n",
            "[(3, 2)]\n",
            "(3, 2)\n",
            "<class 'tuple'>\n",
            "3\n"
          ]
        }
      ]
    },
    {
      "cell_type": "markdown",
      "source": [
        "For and while"
      ],
      "metadata": {
        "id": "LnK02Qn4Pk0s"
      }
    },
    {
      "cell_type": "code",
      "source": [
        "alist=['A', 'B','C','D']\n",
        "for i in alist:\n",
        "  print(i)"
      ],
      "metadata": {
        "colab": {
          "base_uri": "https://localhost:8080/"
        },
        "id": "bv8dYs4IO6Ft",
        "outputId": "7f8a3c56-fe2c-425b-e4fd-74e6e78cc3df"
      },
      "execution_count": null,
      "outputs": [
        {
          "output_type": "stream",
          "name": "stdout",
          "text": [
            "A\n",
            "B\n",
            "C\n",
            "D\n"
          ]
        }
      ]
    },
    {
      "cell_type": "code",
      "source": [
        "print(len(alist))\n",
        "for i in range(len(alist)):\n",
        "  print(i,alist[i])"
      ],
      "metadata": {
        "colab": {
          "base_uri": "https://localhost:8080/"
        },
        "id": "TqXZcVF8P2Jr",
        "outputId": "5b4a1ad4-2b4c-43fc-8f41-0a718ddbe5fb"
      },
      "execution_count": null,
      "outputs": [
        {
          "output_type": "stream",
          "name": "stdout",
          "text": [
            "4\n",
            "0 A\n",
            "1 B\n",
            "2 C\n",
            "3 D\n"
          ]
        }
      ]
    },
    {
      "cell_type": "code",
      "source": [
        "i = 0\n",
        "while i < 7:\n",
        "  print(i)\n",
        "  i +=1"
      ],
      "metadata": {
        "colab": {
          "base_uri": "https://localhost:8080/"
        },
        "id": "bUAWhC4AQJYi",
        "outputId": "393e676b-8176-4a78-f620-845ae572223f"
      },
      "execution_count": null,
      "outputs": [
        {
          "output_type": "stream",
          "name": "stdout",
          "text": [
            "0\n",
            "1\n",
            "2\n",
            "3\n",
            "4\n",
            "5\n",
            "6\n"
          ]
        }
      ]
    },
    {
      "cell_type": "markdown",
      "source": [
        "But i +=1 is not necessary"
      ],
      "metadata": {
        "id": "YP16hHXlQwW9"
      }
    },
    {
      "cell_type": "code",
      "source": [
        "i = 0\n",
        "while i < 7:\n",
        "  print(i)\n",
        "  i += 2"
      ],
      "metadata": {
        "colab": {
          "base_uri": "https://localhost:8080/"
        },
        "id": "MiiFLTq9QB4w",
        "outputId": "4cd0612b-a365-48a3-c874-ab088ed13984"
      },
      "execution_count": null,
      "outputs": [
        {
          "output_type": "stream",
          "name": "stdout",
          "text": [
            "0\n",
            "2\n",
            "4\n",
            "6\n"
          ]
        }
      ]
    },
    {
      "cell_type": "markdown",
      "source": [
        "Prime numbers less than or equal to 100"
      ],
      "metadata": {
        "id": "d3X5PuZrQ9sA"
      }
    },
    {
      "cell_type": "code",
      "source": [
        "prime =[2]\n",
        "for i in range(3, 101):\n",
        "  time = 0\n",
        "  for j in range(len(prime)):\n",
        "    if i % prime[j] == 0:\n",
        "       time +=1\n",
        "\n",
        "  if time == 0:\n",
        "    prime.append(i)\n",
        "\n",
        "print(prime)"
      ],
      "metadata": {
        "colab": {
          "base_uri": "https://localhost:8080/"
        },
        "id": "skPmwriqQ8mM",
        "outputId": "c226a989-f230-4545-f5f9-1e0a297ce027"
      },
      "execution_count": null,
      "outputs": [
        {
          "output_type": "stream",
          "name": "stdout",
          "text": [
            "[2, 3, 5, 7, 11, 13, 17, 19, 23, 29, 31, 37, 41, 43, 47, 53, 59, 61, 67, 71, 73, 79, 83, 89, 97]\n"
          ]
        }
      ]
    },
    {
      "cell_type": "markdown",
      "source": [
        "Function"
      ],
      "metadata": {
        "id": "_Ylhzbzpv5vz"
      }
    },
    {
      "cell_type": "code",
      "source": [
        "def f(x,m=2,n=1):\n",
        "  y = x*m+n\n",
        "  #print(y)\n",
        "  return(y)"
      ],
      "metadata": {
        "id": "JskgDPYzR26w"
      },
      "execution_count": null,
      "outputs": []
    },
    {
      "cell_type": "code",
      "source": [
        "def f(x, m=2, n=1):\n",
        "  y=x*m+n\n",
        "  print(y)\n",
        "f(5)"
      ],
      "metadata": {
        "colab": {
          "base_uri": "https://localhost:8080/"
        },
        "id": "L-opoZu4wlvr",
        "outputId": "4c414047-7507-4807-a97b-b3d3941a3d3b"
      },
      "execution_count": null,
      "outputs": [
        {
          "output_type": "stream",
          "name": "stdout",
          "text": [
            "11\n"
          ]
        }
      ]
    },
    {
      "cell_type": "code",
      "source": [
        "f(5, n= 8)"
      ],
      "metadata": {
        "colab": {
          "base_uri": "https://localhost:8080/"
        },
        "id": "rvtkPWrYwzmT",
        "outputId": "eba39e41-d1e8-4571-bdbc-d82bd70d1908"
      },
      "execution_count": null,
      "outputs": [
        {
          "output_type": "stream",
          "name": "stdout",
          "text": [
            "18\n"
          ]
        }
      ]
    },
    {
      "cell_type": "code",
      "source": [
        "f(5, m=3, n=2)"
      ],
      "metadata": {
        "colab": {
          "base_uri": "https://localhost:8080/"
        },
        "id": "IVM45BLCw2O3",
        "outputId": "1872d8bc-5b24-486c-e913-d986f869ce5f"
      },
      "execution_count": null,
      "outputs": [
        {
          "output_type": "stream",
          "name": "stdout",
          "text": [
            "17\n"
          ]
        }
      ]
    },
    {
      "cell_type": "markdown",
      "source": [
        "More thing about strings"
      ],
      "metadata": {
        "id": "ZcIDMJg-w8yg"
      }
    },
    {
      "cell_type": "code",
      "source": [
        "a = \"Physical Review Letters\"\n",
        "alower = a.lower()\n",
        "print(alower)\n",
        "aCapital = a.capitalize()\n",
        "print(aCapital)\n",
        "\n",
        "print(alower.title())\n",
        "print(a.upper())\n",
        "print(a.swapcase())\n",
        "\n",
        "print(a.find('w'))\n",
        "print(a.find('Let'))\n",
        "\n",
        "print(a.replace('P','r'))\n",
        "\n",
        "a='  Physical Review Letters  '\n",
        "\n",
        "print(a.lstrip())\n",
        "print(a.rstrip())\n",
        "print(a.strip())\n",
        "\n",
        "print(a.split())\n",
        "\n",
        "aLines = 'to be or not to be\\nThat is the question'\n",
        "aLineSplit=aLines.splitlines()\n",
        "print(aLineSplit)\n",
        "print(aLines.split('\\n'))"
      ],
      "metadata": {
        "colab": {
          "base_uri": "https://localhost:8080/"
        },
        "id": "vaBAKdpVw7AF",
        "outputId": "a590452c-541f-4449-b042-756f401f1200"
      },
      "execution_count": null,
      "outputs": [
        {
          "output_type": "stream",
          "name": "stdout",
          "text": [
            "physical review letters\n",
            "Physical review letters\n",
            "Physical Review Letters\n",
            "PHYSICAL REVIEW LETTERS\n",
            "pHYSICAL rEVIEW lETTERS\n",
            "14\n",
            "16\n",
            "rhysical Review Letters\n",
            "Physical Review Letters  \n",
            "  Physical Review Letters\n",
            "Physical Review Letters\n",
            "['Physical', 'Review', 'Letters']\n",
            "['to be or not to be', 'That is the question']\n",
            "['to be or not to be', 'That is the question']\n"
          ]
        }
      ]
    },
    {
      "cell_type": "code",
      "source": [
        "Hamlet ='To be, or not to be'\n",
        "print(Hamlet)\n",
        "HamletList = Hamlet.split()\n",
        "print(HamletList)\n",
        "print(' '.join(HamletList))"
      ],
      "metadata": {
        "colab": {
          "base_uri": "https://localhost:8080/"
        },
        "id": "Fxg_q8QLzdDC",
        "outputId": "0df86348-0cd9-4797-bac5-215ca45ef954"
      },
      "execution_count": null,
      "outputs": [
        {
          "output_type": "stream",
          "name": "stdout",
          "text": [
            "To be, or not to be\n",
            "['To', 'be,', 'or', 'not', 'to', 'be']\n",
            "To be, or not to be\n"
          ]
        }
      ]
    },
    {
      "cell_type": "code",
      "source": [
        "print('  '.join(HamletList))"
      ],
      "metadata": {
        "colab": {
          "base_uri": "https://localhost:8080/"
        },
        "id": "tNDzrE-S-cFJ",
        "outputId": "cad7c79c-c821-4eb4-f214-8e385044ef9e"
      },
      "execution_count": null,
      "outputs": [
        {
          "output_type": "stream",
          "name": "stdout",
          "text": [
            "To  be,  or  not  to  be\n"
          ]
        }
      ]
    },
    {
      "cell_type": "markdown",
      "source": [
        "Print"
      ],
      "metadata": {
        "id": "Ufd60dqX_E_v"
      }
    },
    {
      "cell_type": "code",
      "source": [
        "a, b = 1, 2\n",
        "c = a+b"
      ],
      "metadata": {
        "id": "OfO9I6NH_Cf6"
      },
      "execution_count": null,
      "outputs": []
    },
    {
      "cell_type": "code",
      "source": [
        "print('sum of', a, 'and', b, 'is', c)"
      ],
      "metadata": {
        "colab": {
          "base_uri": "https://localhost:8080/"
        },
        "id": "rjr9cnF4_N6j",
        "outputId": "6bf08e30-7d87-462a-994b-ba7a1a235f47"
      },
      "execution_count": null,
      "outputs": [
        {
          "output_type": "stream",
          "name": "stdout",
          "text": [
            "sum of 1 and 2 is 3\n"
          ]
        }
      ]
    },
    {
      "cell_type": "code",
      "source": [
        "print('sum of ' + str(a) + ' and ' + str(b) + ' is ' + str(c))"
      ],
      "metadata": {
        "colab": {
          "base_uri": "https://localhost:8080/"
        },
        "id": "CuLC1mlQ_VZP",
        "outputId": "41919eaa-f91b-4c90-b7bd-45204d161298"
      },
      "execution_count": null,
      "outputs": [
        {
          "output_type": "stream",
          "name": "stdout",
          "text": [
            "sum of 1 and 2 is 3\n"
          ]
        }
      ]
    },
    {
      "cell_type": "code",
      "source": [
        "print('sum of %s and %s is %s' %(a,b,c))"
      ],
      "metadata": {
        "colab": {
          "base_uri": "https://localhost:8080/"
        },
        "id": "U0WPqwTE_m9a",
        "outputId": "b798a4ed-93c7-4422-ad41-ad24ce221bf0"
      },
      "execution_count": null,
      "outputs": [
        {
          "output_type": "stream",
          "name": "stdout",
          "text": [
            "sum of 1 and 2 is 3\n"
          ]
        }
      ]
    },
    {
      "cell_type": "code",
      "source": [
        "print('sum of {} and {} is {}'.format(a,b,c))"
      ],
      "metadata": {
        "colab": {
          "base_uri": "https://localhost:8080/"
        },
        "id": "sMcZApTr_9HZ",
        "outputId": "ca758251-6e50-4ab8-d83c-5f379dd2c817"
      },
      "execution_count": null,
      "outputs": [
        {
          "output_type": "stream",
          "name": "stdout",
          "text": [
            "sum of 1 and 2 is 3\n"
          ]
        }
      ]
    },
    {
      "cell_type": "markdown",
      "source": [
        "Special characters\n"
      ],
      "metadata": {
        "id": "9aPACtIgAKeq"
      }
    },
    {
      "cell_type": "code",
      "source": [
        "print(\"A backslash t \\t is a tab\")"
      ],
      "metadata": {
        "colab": {
          "base_uri": "https://localhost:8080/"
        },
        "id": "Nlugo6PoAGrD",
        "outputId": "3763f782-2221-45cf-fa4a-86f0d169e578"
      },
      "execution_count": null,
      "outputs": [
        {
          "output_type": "stream",
          "name": "stdout",
          "text": [
            "A backslash t \t is a tab\n"
          ]
        }
      ]
    },
    {
      "cell_type": "code",
      "source": [
        "print(\"A backslash n \\n is a new line character\")"
      ],
      "metadata": {
        "colab": {
          "base_uri": "https://localhost:8080/"
        },
        "id": "vvi0x7dtAT5p",
        "outputId": "85d989cb-ae8b-4fd4-988c-7a20345aef0c"
      },
      "execution_count": null,
      "outputs": [
        {
          "output_type": "stream",
          "name": "stdout",
          "text": [
            "A backslash n \n",
            " is a new line character\n"
          ]
        }
      ]
    },
    {
      "cell_type": "markdown",
      "source": [
        "Number"
      ],
      "metadata": {
        "id": "mVoSWq98AgXu"
      }
    },
    {
      "cell_type": "code",
      "source": [
        "print(\"%.2d\" %1)"
      ],
      "metadata": {
        "colab": {
          "base_uri": "https://localhost:8080/"
        },
        "id": "1pzPTQolAe5y",
        "outputId": "1bb6bdf5-4574-4eae-e2c6-5e5601f94fdf"
      },
      "execution_count": null,
      "outputs": [
        {
          "output_type": "stream",
          "name": "stdout",
          "text": [
            "01\n"
          ]
        }
      ]
    },
    {
      "cell_type": "code",
      "source": [
        "print(\"%.3d\" %3.141592)"
      ],
      "metadata": {
        "colab": {
          "base_uri": "https://localhost:8080/"
        },
        "id": "l5YQi077Ax3A",
        "outputId": "067e43b6-a622-4116-f79f-26b287a05a83"
      },
      "execution_count": null,
      "outputs": [
        {
          "output_type": "stream",
          "name": "stdout",
          "text": [
            "003\n"
          ]
        }
      ]
    },
    {
      "cell_type": "code",
      "source": [
        "print(\"%.5f\" %6.30201345)"
      ],
      "metadata": {
        "colab": {
          "base_uri": "https://localhost:8080/"
        },
        "id": "jTEewzuqA5CU",
        "outputId": "7cf3088e-1a0c-489f-8288-ab6599830a1d"
      },
      "execution_count": null,
      "outputs": [
        {
          "output_type": "stream",
          "name": "stdout",
          "text": [
            "6.30201\n"
          ]
        }
      ]
    },
    {
      "cell_type": "markdown",
      "source": [
        "There are many occasions to import modules. A module can be thought of as a file containing functions, variables, and classes. You can load the entire module, or you can only call specific functions in the module. Below, let's take a look at the most used module, numpy"
      ],
      "metadata": {
        "id": "M2yQXytfBCjC"
      }
    },
    {
      "cell_type": "code",
      "source": [
        "import numpy as np"
      ],
      "metadata": {
        "id": "fUNh-UTgA_3_"
      },
      "execution_count": null,
      "outputs": []
    },
    {
      "cell_type": "code",
      "source": [
        "X = [1,2,3]\n",
        "print(X+X)"
      ],
      "metadata": {
        "colab": {
          "base_uri": "https://localhost:8080/"
        },
        "id": "Fzr-9IsYBj3k",
        "outputId": "7ad60c76-a9aa-4f79-88a1-f8f6a550057a"
      },
      "execution_count": null,
      "outputs": [
        {
          "output_type": "stream",
          "name": "stdout",
          "text": [
            "[1, 2, 3, 1, 2, 3]\n"
          ]
        }
      ]
    },
    {
      "cell_type": "markdown",
      "source": [
        "Howerver, in the case of array:"
      ],
      "metadata": {
        "id": "xMX6l5AxByme"
      }
    },
    {
      "cell_type": "code",
      "source": [
        "Y = np.asarray(X)\n",
        "print(Y+Y)\n",
        "print(3*Y)\n",
        "print(Y+3)\n",
        "print(Y*Y)\n",
        "print(1/Y)\n",
        "print(Y**5)"
      ],
      "metadata": {
        "colab": {
          "base_uri": "https://localhost:8080/"
        },
        "id": "dbXJ8jXPBwgh",
        "outputId": "8f7afab5-6831-4235-880c-134f13627c14"
      },
      "execution_count": null,
      "outputs": [
        {
          "output_type": "stream",
          "name": "stdout",
          "text": [
            "[2 4 6]\n",
            "[3 6 9]\n",
            "[4 5 6]\n",
            "[1 4 9]\n",
            "[1.         0.5        0.33333333]\n",
            "[  1  32 243]\n"
          ]
        }
      ]
    },
    {
      "cell_type": "markdown",
      "source": [
        "Replace the list defined above"
      ],
      "metadata": {
        "id": "7HJIvij0Ca9X"
      }
    },
    {
      "cell_type": "code",
      "source": [
        "X[0] = 100\n",
        "print(X)"
      ],
      "metadata": {
        "colab": {
          "base_uri": "https://localhost:8080/"
        },
        "id": "3qmvm-0nCE8d",
        "outputId": "e61a0d87-cb93-401d-f100-7b3c56b28c7e"
      },
      "execution_count": null,
      "outputs": [
        {
          "output_type": "stream",
          "name": "stdout",
          "text": [
            "[100, 2, 3]\n"
          ]
        }
      ]
    },
    {
      "cell_type": "markdown",
      "source": [
        "If we print out the arrays that had the same values, we can see that they are independent of each other"
      ],
      "metadata": {
        "id": "mxc8MiHvCqD3"
      }
    },
    {
      "cell_type": "code",
      "source": [
        "print(Y)"
      ],
      "metadata": {
        "colab": {
          "base_uri": "https://localhost:8080/"
        },
        "id": "cvkHIhFlCkVq",
        "outputId": "43dbfb05-dd17-419c-ed2b-f0a9383c0a35"
      },
      "execution_count": null,
      "outputs": [
        {
          "output_type": "stream",
          "name": "stdout",
          "text": [
            "[1 2 3]\n"
          ]
        }
      ]
    },
    {
      "cell_type": "markdown",
      "source": [
        "Using Numpy, you can easily fine x, y, and z-axis components of a vector using trigonometric functions"
      ],
      "metadata": {
        "id": "aUAM4esIC5Gi"
      }
    },
    {
      "cell_type": "code",
      "source": [
        "x = np.array([np.cos(30/180*np.pi),np.sin(30/180*np.pi)])\n",
        "print(x)"
      ],
      "metadata": {
        "colab": {
          "base_uri": "https://localhost:8080/"
        },
        "id": "pNTHwYOzCz4R",
        "outputId": "3152872d-04e2-4be2-80a4-1cb170c11566"
      },
      "execution_count": null,
      "outputs": [
        {
          "output_type": "stream",
          "name": "stdout",
          "text": [
            "[0.8660254 0.5      ]\n"
          ]
        }
      ]
    },
    {
      "cell_type": "markdown",
      "source": [
        "The absolute value of the vector"
      ],
      "metadata": {
        "id": "5Rjqm0T-Dr2D"
      }
    },
    {
      "cell_type": "code",
      "source": [
        "np.linalg.norm(x)"
      ],
      "metadata": {
        "colab": {
          "base_uri": "https://localhost:8080/"
        },
        "id": "-gPD1_-gDgPY",
        "outputId": "ba5580c9-f6e6-4bdc-957c-2125ec404676"
      },
      "execution_count": null,
      "outputs": [
        {
          "output_type": "execute_result",
          "data": {
            "text/plain": [
              "np.float64(1.0)"
            ]
          },
          "metadata": {},
          "execution_count": 49
        }
      ]
    },
    {
      "cell_type": "markdown",
      "source": [
        "Matrix"
      ],
      "metadata": {
        "id": "3Jlf73VgEc6m"
      }
    },
    {
      "cell_type": "code",
      "source": [
        "np.identity(3)"
      ],
      "metadata": {
        "colab": {
          "base_uri": "https://localhost:8080/"
        },
        "id": "ezlY-ZrDD8fs",
        "outputId": "3aba5883-08ed-4679-8997-c7a96c551e17"
      },
      "execution_count": null,
      "outputs": [
        {
          "output_type": "execute_result",
          "data": {
            "text/plain": [
              "array([[1., 0., 0.],\n",
              "       [0., 1., 0.],\n",
              "       [0., 0., 1.]])"
            ]
          },
          "metadata": {},
          "execution_count": 50
        }
      ]
    },
    {
      "cell_type": "code",
      "source": [
        "np.ones((3,3))"
      ],
      "metadata": {
        "colab": {
          "base_uri": "https://localhost:8080/"
        },
        "id": "Ox3qUOeuEhQt",
        "outputId": "bd246b2c-2daf-460a-91e6-1a1229e56b4e"
      },
      "execution_count": null,
      "outputs": [
        {
          "output_type": "execute_result",
          "data": {
            "text/plain": [
              "array([[1., 1., 1.],\n",
              "       [1., 1., 1.],\n",
              "       [1., 1., 1.]])"
            ]
          },
          "metadata": {},
          "execution_count": 51
        }
      ]
    },
    {
      "cell_type": "code",
      "source": [
        "np.identity(3) + np.ones((3,3))"
      ],
      "metadata": {
        "colab": {
          "base_uri": "https://localhost:8080/"
        },
        "id": "HDC15PT6EuRY",
        "outputId": "fe600473-4570-4710-ae7d-e13daba99946"
      },
      "execution_count": null,
      "outputs": [
        {
          "output_type": "execute_result",
          "data": {
            "text/plain": [
              "array([[2., 1., 1.],\n",
              "       [1., 2., 1.],\n",
              "       [1., 1., 2.]])"
            ]
          },
          "metadata": {},
          "execution_count": 52
        }
      ]
    },
    {
      "cell_type": "markdown",
      "source": [
        "matrix operations"
      ],
      "metadata": {
        "id": "1GC0kvecE7Ov"
      }
    },
    {
      "cell_type": "code",
      "source": [
        "np.identity(3) @ np.ones((3,3))"
      ],
      "metadata": {
        "colab": {
          "base_uri": "https://localhost:8080/"
        },
        "id": "PMovXaTEE0bv",
        "outputId": "01c54bb2-030b-4914-dd2e-52236443a340"
      },
      "execution_count": null,
      "outputs": [
        {
          "output_type": "execute_result",
          "data": {
            "text/plain": [
              "array([[1., 1., 1.],\n",
              "       [1., 1., 1.],\n",
              "       [1., 1., 1.]])"
            ]
          },
          "metadata": {},
          "execution_count": 53
        }
      ]
    },
    {
      "cell_type": "code",
      "source": [
        "np.dot(np.identity(3),np.ones((3,3)))"
      ],
      "metadata": {
        "colab": {
          "base_uri": "https://localhost:8080/"
        },
        "id": "Cmkm9Ld6FEe8",
        "outputId": "f7ad2d4f-1416-4e4e-d7aa-26bca02f3e5e"
      },
      "execution_count": null,
      "outputs": [
        {
          "output_type": "execute_result",
          "data": {
            "text/plain": [
              "array([[1., 1., 1.],\n",
              "       [1., 1., 1.],\n",
              "       [1., 1., 1.]])"
            ]
          },
          "metadata": {},
          "execution_count": 54
        }
      ]
    },
    {
      "cell_type": "markdown",
      "source": [
        "Inverse matrix"
      ],
      "metadata": {
        "id": "7yQn_B3LFZiN"
      }
    },
    {
      "cell_type": "code",
      "source": [
        "x = np.array([[1,2],[2,1]])\n",
        "print(x)\n",
        "y = np.linalg.inv(x)\n",
        "print(y)"
      ],
      "metadata": {
        "colab": {
          "base_uri": "https://localhost:8080/"
        },
        "id": "0vxnplilFPPp",
        "outputId": "c8e9b278-8255-448f-e0c5-b2d1b743351a"
      },
      "execution_count": null,
      "outputs": [
        {
          "output_type": "stream",
          "name": "stdout",
          "text": [
            "[[1 2]\n",
            " [2 1]]\n",
            "[[-0.33333333  0.66666667]\n",
            " [ 0.66666667 -0.33333333]]\n"
          ]
        }
      ]
    },
    {
      "cell_type": "markdown",
      "source": [
        "Identify matrix"
      ],
      "metadata": {
        "id": "C1RKdBguGJHT"
      }
    },
    {
      "cell_type": "code",
      "source": [
        "print(x @ y)"
      ],
      "metadata": {
        "colab": {
          "base_uri": "https://localhost:8080/"
        },
        "id": "4qiu9wJHFowH",
        "outputId": "1d8f739a-dc64-4a09-e773-65efec7f57e9"
      },
      "execution_count": null,
      "outputs": [
        {
          "output_type": "stream",
          "name": "stdout",
          "text": [
            "[[1. 0.]\n",
            " [0. 1.]]\n"
          ]
        }
      ]
    },
    {
      "cell_type": "markdown",
      "source": [
        "To change the shape of matrix"
      ],
      "metadata": {
        "id": "WaglFddaGP9v"
      }
    },
    {
      "cell_type": "code",
      "source": [
        "x = np.array(range(12))\n",
        "print(x)"
      ],
      "metadata": {
        "colab": {
          "base_uri": "https://localhost:8080/"
        },
        "id": "9KjabnKHGOKc",
        "outputId": "6404a87a-ae00-4237-e9ef-def88e89ab7d"
      },
      "execution_count": null,
      "outputs": [
        {
          "output_type": "stream",
          "name": "stdout",
          "text": [
            "[ 0  1  2  3  4  5  6  7  8  9 10 11]\n"
          ]
        }
      ]
    },
    {
      "cell_type": "code",
      "source": [
        "x= np.reshape(x,(12,1))\n",
        "print(x)"
      ],
      "metadata": {
        "colab": {
          "base_uri": "https://localhost:8080/"
        },
        "id": "UM3viKqRGYvM",
        "outputId": "58feb8d0-04bd-478e-866d-f9b2cd5897a9"
      },
      "execution_count": null,
      "outputs": [
        {
          "output_type": "stream",
          "name": "stdout",
          "text": [
            "[[ 0]\n",
            " [ 1]\n",
            " [ 2]\n",
            " [ 3]\n",
            " [ 4]\n",
            " [ 5]\n",
            " [ 6]\n",
            " [ 7]\n",
            " [ 8]\n",
            " [ 9]\n",
            " [10]\n",
            " [11]]\n"
          ]
        }
      ]
    },
    {
      "cell_type": "code",
      "source": [
        "np.reshape(x,(3,4))"
      ],
      "metadata": {
        "colab": {
          "base_uri": "https://localhost:8080/"
        },
        "id": "a2NcCdohGhip",
        "outputId": "652bb0da-c44f-4a44-ab71-b70d4c694d8b"
      },
      "execution_count": null,
      "outputs": [
        {
          "output_type": "execute_result",
          "data": {
            "text/plain": [
              "array([[ 0,  1,  2,  3],\n",
              "       [ 4,  5,  6,  7],\n",
              "       [ 8,  9, 10, 11]])"
            ]
          },
          "metadata": {},
          "execution_count": 59
        }
      ]
    },
    {
      "cell_type": "markdown",
      "source": [
        "Matplotlib http://matplotlib.org/\n",
        "\n",
        "install\n",
        "\n",
        "python -m pip install -U pip\n",
        "\n",
        "python -m pip install -U matplotlib\n",
        "\n",
        "conda install matplotlib\n",
        "\n",
        "conda install -c conda-forge matplotlib"
      ],
      "metadata": {
        "id": "qZKVrcpTG4kX"
      }
    },
    {
      "cell_type": "code",
      "source": [
        "import matplotlib.pyplot as plt\n",
        "plt.plot([1, 2, 3, 4])\n",
        "plt.ylabel(\"some numbers\")\n",
        "plt.show()"
      ],
      "metadata": {
        "colab": {
          "base_uri": "https://localhost:8080/",
          "height": 430
        },
        "id": "tFRC6gxpG2Ub",
        "outputId": "3a38eb0c-5650-4adb-dc0f-75b821222ceb"
      },
      "execution_count": null,
      "outputs": [
        {
          "output_type": "display_data",
          "data": {
            "text/plain": [
              "<Figure size 640x480 with 1 Axes>"
            ],
            "image/png": "[encoded data removed]"
          },
          "metadata": {}
        }
      ]
    },
    {
      "cell_type": "markdown",
      "source": [
        "List or arrays are OK"
      ],
      "metadata": {
        "id": "VE0hfRUcIFBr"
      }
    },
    {
      "cell_type": "code",
      "source": [
        "import numpy as np\n",
        "import matplotlib.pyplot as plt\n",
        "\n",
        "x = [1, 2, 3, 4]\n",
        "y = np.asarray([1, 4, 9, 16])\n",
        "plt.plot(x, y)\n",
        "plt.show()"
      ],
      "metadata": {
        "colab": {
          "base_uri": "https://localhost:8080/",
          "height": 430
        },
        "id": "-v1uDtBfHrq6",
        "outputId": "f7d5ad77-22c6-4ae3-95ca-6cf79794f057"
      },
      "execution_count": null,
      "outputs": [
        {
          "output_type": "display_data",
          "data": {
            "text/plain": [
              "<Figure size 640x480 with 1 Axes>"
            ],
            "image/png": "[encoded data removed]"
          },
          "metadata": {}
        }
      ]
    },
    {
      "cell_type": "markdown",
      "source": [
        "Makers"
      ],
      "metadata": {
        "id": "xCkyO8qTIr-4"
      }
    },
    {
      "cell_type": "code",
      "source": [
        "plt.plot(x, y, 'rs')  #red square\n",
        "plt.plot(x, y+3, 'bp')  #blue\n",
        "plt.plot(x, y+6, 'rs--')\n",
        "#plt.axis([0, 6, 0, 25])\n",
        "plt.xlim(0, 6)\n",
        "plt.ylim(0, 25)\n",
        "plt.show()"
      ],
      "metadata": {
        "colab": {
          "base_uri": "https://localhost:8080/",
          "height": 435
        },
        "id": "eAYuv11sIZS_",
        "outputId": "b2e7e2ef-221e-4878-bfc1-87151a9c74d8"
      },
      "execution_count": null,
      "outputs": [
        {
          "output_type": "display_data",
          "data": {
            "text/plain": [
              "<Figure size 640x480 with 1 Axes>"
            ],
            "image/png": "[encoded data removed]"
          },
          "metadata": {}
        }
      ]
    },
    {
      "cell_type": "code",
      "source": [
        "plt.plot(x, y, linewidth = 2.0)\n",
        "plt.plot(x, y+2, lw = 6.0)"
      ],
      "metadata": {
        "colab": {
          "base_uri": "https://localhost:8080/",
          "height": 448
        },
        "id": "xaTrnHyoI-nH",
        "outputId": "603c83b4-b58f-4048-9cf2-1acb2dedffa8"
      },
      "execution_count": null,
      "outputs": [
        {
          "output_type": "execute_result",
          "data": {
            "text/plain": [
              "[<matplotlib.lines.Line2D at 0x7ce6e5faae40>]"
            ]
          },
          "metadata": {},
          "execution_count": 70
        },
        {
          "output_type": "display_data",
          "data": {
            "text/plain": [
              "<Figure size 640x480 with 1 Axes>"
            ],
            "image/png": "[encoded data removed]"
          },
          "metadata": {}
        }
      ]
    },
    {
      "cell_type": "code",
      "source": [
        "import numpy as np\n",
        "plt.figure()\n",
        "\n",
        "plt.subplot(211)\n",
        "x= np.linspace(0,1,20)\n",
        "plt.plot(x, np.cos(2*np.pi*x), 'bo')\n",
        "plt.plot(x, np.cos(2*np.pi*x), 'r--')\n",
        "\n",
        "plt.subplot(223)\n",
        "x = np.linspace(0,1,20)\n",
        "plt.plot(x, np.sin(2*np.pi*x)*np.sin(2*np.pi*x), 'bo')\n",
        "plt.plot(x, np.sin(2*np.pi*x)*np.sin(2*np.pi*x), 'r--')\n",
        "\n",
        "plt.subplot(224)\n",
        "x = np.linspace(0,1,20)\n",
        "plt.plot(x, np.sin(2*np.pi*x), 'bo')\n",
        "plt.plot(x, np.sin(2*np.pi*x), 'r--')"
      ],
      "metadata": {
        "colab": {
          "base_uri": "https://localhost:8080/",
          "height": 448
        },
        "id": "iK2MI93UJvp-",
        "outputId": "54a0ad01-6926-45a4-a239-5cf7f6563a34"
      },
      "execution_count": null,
      "outputs": [
        {
          "output_type": "execute_result",
          "data": {
            "text/plain": [
              "[<matplotlib.lines.Line2D at 0x7ce6e5a0ce60>]"
            ]
          },
          "metadata": {},
          "execution_count": 84
        },
        {
          "output_type": "display_data",
          "data": {
            "text/plain": [
              "<Figure size 640x480 with 3 Axes>"
            ],
            "image/png": "[encoded data removed]"
          },
          "metadata": {}
        }
      ]
    },
    {
      "cell_type": "code",
      "source": [
        "#Using a function\n",
        "def f(t):\n",
        "    return np.exp(-t) * np.cos(2*np.pi*t)\n",
        "\n",
        "plt.subplot(211)\n",
        "plt.plot(x, f(x), 'bo', x, f(x), 'k')"
      ],
      "metadata": {
        "colab": {
          "base_uri": "https://localhost:8080/",
          "height": 264
        },
        "id": "0rZ_NfEYLXoR",
        "outputId": "a32ebec1-a8c5-4247-9595-7808cb6d693c"
      },
      "execution_count": null,
      "outputs": [
        {
          "output_type": "execute_result",
          "data": {
            "text/plain": [
              "[<matplotlib.lines.Line2D at 0x7ce6e56ac260>,\n",
              " <matplotlib.lines.Line2D at 0x7ce6e56ac320>]"
            ]
          },
          "metadata": {},
          "execution_count": 85
        },
        {
          "output_type": "display_data",
          "data": {
            "text/plain": [
              "<Figure size 640x480 with 1 Axes>"
            ],
            "image/png": "[encoded data removed]"
          },
          "metadata": {}
        }
      ]
    },
    {
      "cell_type": "markdown",
      "source": [],
      "metadata": {
        "id": "9SOLG84TPQ0C"
      }
    },
    {
      "cell_type": "code",
      "source": [
        "#Label for the axes\n",
        "t = np.arange(0.0, 2.0, 0.01)\n",
        "s = 1 + np.sin(2*np.pi*t)\n",
        "fig, ax = plt.subplots()\n",
        "ax.plot(t, s)\n",
        "ax.set(xlabel=\"position ($\\AA$)\", ylabel=\"voltage (mV)\")\n",
        "ax.grid()\n",
        "fig.savefig(\"test.png\", dpi = 300)\n",
        "fig.savefig(\"test.pdf\")\n",
        "plt.show()"
      ],
      "metadata": {
        "colab": {
          "base_uri": "https://localhost:8080/",
          "height": 527
        },
        "id": "TMdaY0rROmSU",
        "outputId": "28f14903-3659-444d-9d65-0bdecbf138c8"
      },
      "execution_count": null,
      "outputs": [
        {
          "output_type": "stream",
          "name": "stderr",
          "text": [
            "<>:6: SyntaxWarning: invalid escape sequence '\\A'\n",
            "<>:6: SyntaxWarning: invalid escape sequence '\\A'\n",
            "/tmp/ipython-input-4067146357.py:6: SyntaxWarning: invalid escape sequence '\\A'\n",
            "  ax.set(xlabel=\"position ($\\AA$)\", ylabel=\"voltage (mV)\")\n"
          ]
        },
        {
          "output_type": "display_data",
          "data": {
            "text/plain": [
              "<Figure size 640x480 with 1 Axes>"
            ],
            "image/png": "[encoded data removed]"
          },
          "metadata": {}
        }
      ]
    },
    {
      "cell_type": "code",
      "source": [
        "import numpy as np, matplotlib.pyplot as plt\n",
        "x = np.random.normal(0, 1, 10)\n",
        "y = np.random.normal(0, 1, 10)\n",
        "sizes = np.random.uniform(10, 100, 10)\n",
        "colors = np.random.uniform(0, 1, 10)\n",
        "plt.scatter(x, y, s = sizes, c = colors)\n",
        "plt.xlabel('x')\n",
        "plt.ylabel('y')\n",
        "plt.colorbar()\n",
        "plt.show()"
      ],
      "metadata": {
        "colab": {
          "base_uri": "https://localhost:8080/",
          "height": 449
        },
        "id": "ZKJ0ptgBQJRG",
        "outputId": "28994700-bc18-4080-81e1-94afc02a400a"
      },
      "execution_count": null,
      "outputs": [
        {
          "output_type": "display_data",
          "data": {
            "text/plain": [
              "<Figure size 640x480 with 2 Axes>"
            ],
            "image/png": "[encoded data removed]"
          },
          "metadata": {}
        }
      ]
    },
    {
      "cell_type": "code",
      "source": [
        "import numpy as np, matplotlib.pyplot as plt\n",
        "x = np.arange(7) + 0.5\n",
        "y = np.random.uniform(1, 9, len(x))\n",
        "plt.bar(x,y, width=1, edgecolor='white')\n",
        "plt.xlabel(\"day\")\n",
        "plt.ylabel(\"hours\")\n",
        "plt.show()\n"
      ],
      "metadata": {
        "colab": {
          "base_uri": "https://localhost:8080/",
          "height": 449
        },
        "id": "ZvKm6miARwD6",
        "outputId": "399a2309-5815-4177-bda6-29fcfe90157d"
      },
      "execution_count": null,
      "outputs": [
        {
          "output_type": "display_data",
          "data": {
            "text/plain": [
              "<Figure size 640x480 with 1 Axes>"
            ],
            "image/png": "[encoded data removed]"
          },
          "metadata": {}
        }
      ]
    },
    {
      "cell_type": "code",
      "source": [
        "import numpy as np, matplotlib.pyplot as plt\n",
        "x = np.random.normal(0,1, 10000)\n",
        "plt.hist(x, bins = 15, edgecolor='white')\n",
        "plt.xlabel(\"x\")\n",
        "plt.ylabel(\"frequency\")\n",
        "plt.show()"
      ],
      "metadata": {
        "colab": {
          "base_uri": "https://localhost:8080/",
          "height": 449
        },
        "id": "_OkcYhhETLZg",
        "outputId": "55fa1ace-5917-4110-f704-9f1cb5166aab"
      },
      "execution_count": null,
      "outputs": [
        {
          "output_type": "display_data",
          "data": {
            "text/plain": [
              "<Figure size 640x480 with 1 Axes>"
            ],
            "image/png": "[encoded data removed]"
          },
          "metadata": {}
        }
      ]
    },
    {
      "cell_type": "code",
      "source": [
        "plt.hist(x, bins = 15, edgecolor='white',density=True)"
      ],
      "metadata": {
        "colab": {
          "base_uri": "https://localhost:8080/",
          "height": 575
        },
        "id": "1fTPECd-T4fV",
        "outputId": "46465f71-f4cd-4f5c-e7ae-e4f9f96a4f6a"
      },
      "execution_count": null,
      "outputs": [
        {
          "output_type": "execute_result",
          "data": {
            "text/plain": [
              "(array([0.00058864, 0.00627884, 0.02334944, 0.06906725, 0.15598995,\n",
              "        0.26763559, 0.36201442, 0.39223134, 0.32551866, 0.20092291,\n",
              "        0.10418952, 0.03943897, 0.01118419, 0.00333563, 0.00039243]),\n",
              " array([-3.69030916, -3.18066095, -2.67101274, -2.16136453, -1.65171632,\n",
              "        -1.14206811, -0.6324199 , -0.12277169,  0.38687652,  0.89652473,\n",
              "         1.40617294,  1.91582115,  2.42546936,  2.93511757,  3.44476578,\n",
              "         3.95441399]),\n",
              " <BarContainer object of 15 artists>)"
            ]
          },
          "metadata": {},
          "execution_count": 103
        },
        {
          "output_type": "display_data",
          "data": {
            "text/plain": [
              "<Figure size 640x480 with 1 Axes>"
            ],
            "image/png": "[encoded data removed]"
          },
          "metadata": {}
        }
      ]
    },
    {
      "cell_type": "code",
      "source": [
        "plt.hist(x, bins = 15, edgecolor='white',density=True, cumulative=True)"
      ],
      "metadata": {
        "colab": {
          "base_uri": "https://localhost:8080/",
          "height": 575
        },
        "id": "o59ebosIVN4E",
        "outputId": "8116dba1-f730-4f4b-d3aa-62413ee3a649"
      },
      "execution_count": null,
      "outputs": [
        {
          "output_type": "execute_result",
          "data": {
            "text/plain": [
              "(array([3.000e-04, 3.500e-03, 1.540e-02, 5.060e-02, 1.301e-01, 2.665e-01,\n",
              "        4.510e-01, 6.509e-01, 8.168e-01, 9.192e-01, 9.723e-01, 9.924e-01,\n",
              "        9.981e-01, 9.998e-01, 1.000e+00]),\n",
              " array([-3.69030916, -3.18066095, -2.67101274, -2.16136453, -1.65171632,\n",
              "        -1.14206811, -0.6324199 , -0.12277169,  0.38687652,  0.89652473,\n",
              "         1.40617294,  1.91582115,  2.42546936,  2.93511757,  3.44476578,\n",
              "         3.95441399]),\n",
              " <BarContainer object of 15 artists>)"
            ]
          },
          "metadata": {},
          "execution_count": 104
        },
        {
          "output_type": "display_data",
          "data": {
            "text/plain": [
              "<Figure size 640x480 with 1 Axes>"
            ],
            "image/png": "[encoded data removed]"
          },
          "metadata": {}
        }
      ]
    },
    {
      "cell_type": "markdown",
      "source": [
        "Root finding\n",
        "\n",
        "bisection method"
      ],
      "metadata": {
        "id": "-IV6YXmWWc3r"
      }
    },
    {
      "cell_type": "code",
      "source": [
        "import numpy as np, matplotlib as plt\n",
        "eps = 1E-8\n",
        "def f(x):\n",
        "  return np.sin(x)\n",
        "\n",
        "x1 = 2\n",
        "x2 = 4\n",
        "while ((x2-x1)>eps):\n",
        "  x3 = (x1+x2)/2.0\n",
        "  if (f(x1)*f(x3) < 0.0): x2 = x3\n",
        "  else: x1 = x3\n",
        "  print(x3, f(x3))"
      ],
      "metadata": {
        "colab": {
          "base_uri": "https://localhost:8080/"
        },
        "id": "p7jtx3Z6Vo9e",
        "outputId": "07d609f3-d7e6-4b13-aa98-1ec81f0c3c58"
      },
      "execution_count": null,
      "outputs": [
        {
          "output_type": "stream",
          "name": "stdout",
          "text": [
            "3.0 0.1411200080598672\n",
            "3.5 -0.35078322768961984\n",
            "3.25 -0.10819513453010837\n",
            "3.125 0.016591892229347906\n",
            "3.1875 -0.045891223272779696\n",
            "3.15625 -0.014656821590492326\n",
            "3.140625 0.0009676534387822795\n",
            "3.1484375 -0.0068447929612965195\n",
            "3.14453125 -0.0029385921809077266\n",
            "3.142578125 -0.0009854712506993687\n",
            "3.1416015625 -8.908910206643689e-06\n",
            "3.14111328125 0.00047937232143345065\n",
            "3.141357421875 0.00023523171262385475\n",
            "3.1414794921875 0.00011316140205172368\n",
            "3.14154052734375 5.2126246019632694e-05\n",
            "3.141571044921875 2.1608667916556824e-05\n",
            "3.1415863037109375 6.34987885569579e-06\n",
            "3.1415939331054688 -1.2795156755111882e-06\n",
            "3.141590118408203 2.535181590110747e-06\n",
            "3.141592025756836 6.278329573009214e-07\n",
            "3.1415929794311523 -3.258413591052816e-07\n",
            "3.141592502593994 1.5099579909783707e-07\n",
            "3.1415927410125732 -8.742278000372475e-08\n",
            "3.1415926218032837 3.1786509547056385e-08\n",
            "3.1415926814079285 -2.781813522833423e-08\n",
            "3.141592651605606 1.984187159361081e-09\n",
            "3.1415926665067673 -1.2916974034486575e-08\n",
            "3.1415926590561867 -5.466393437562747e-09\n"
          ]
        }
      ]
    },
    {
      "cell_type": "markdown",
      "source": [
        "\n",
        "Newton method\n",
        "\n",
        "\n"
      ],
      "metadata": {
        "id": "ea_s-tW6XljL"
      }
    },
    {
      "cell_type": "code",
      "source": [
        "import numpy as np, matplotlib as plt\n",
        "eps = 1E-8\n",
        "def f(x):\n",
        "  return np.sin(x)\n",
        "def df(x):\n",
        "  return np.cos(x)\n",
        "x= 2\n",
        "while (np.abs(f(x))> eps):\n",
        "  x -= f(x)/df(x)\n",
        "  print(x, f(x))\n"
      ],
      "metadata": {
        "colab": {
          "base_uri": "https://localhost:8080/"
        },
        "id": "Rk_-ICAgXHSZ",
        "outputId": "6661ec9a-a686-4ef3-9fc8-daa8c679893c"
      },
      "execution_count": null,
      "outputs": [
        {
          "output_type": "stream",
          "name": "stdout",
          "text": [
            "4.185039863261519 -0.8641441470745646\n",
            "2.467893674514666 0.6238810720667769\n",
            "3.266186277569106 -0.12427151776209747\n",
            "3.1409439123176353 0.0006487412266525418\n",
            "3.1415926536808043 -9.101107611278206e-11\n"
          ]
        }
      ]
    },
    {
      "cell_type": "markdown",
      "source": [
        "You may use scipy as well\n",
        "\n",
        "https://scipy.org/install/\n",
        "\n",
        "python -m pip install scipy"
      ],
      "metadata": {
        "id": "YbNq0EtYYoQj"
      }
    },
    {
      "cell_type": "code",
      "source": [
        "from pylab import sin\n",
        "from scipy.optimize import brentq\n",
        "x = brentq(sin , 2, 4)\n",
        "print(x)"
      ],
      "metadata": {
        "colab": {
          "base_uri": "https://localhost:8080/"
        },
        "id": "45142euSYMcN",
        "outputId": "9b8fc794-9fb0-4c02-b5d0-59fc7e4e7e8d"
      },
      "execution_count": null,
      "outputs": [
        {
          "output_type": "stream",
          "name": "stdout",
          "text": [
            "3.141592653589793\n"
          ]
        }
      ]
    },
    {
      "cell_type": "code",
      "source": [
        "import numpy as np, matplotlib.pyplot as plt\n",
        "\n",
        "x = np.arange(1, 13)\n",
        "y = [-2.4, 0.4, 5.7, 12.5, 17.8, 22.2, 24.9, 25.7, 21.2, 14.8, 7.2, 0.4]\n",
        "\n",
        "z = np.polyfit(x, y, 10) ##x-data, y-data, degree\n",
        "f = np.poly1d(z)\n",
        "x_new = np.linspace(x[0], x[-1], 20)\n",
        "print(x_new)\n",
        "\n",
        "y_new = f(x_new)\n",
        "print(x_new)\n",
        "\n",
        "plt.plot(x, y, 'o', color = 'b', alpha = 0.5, ms = 10, label = 'raw data')\n",
        "plt.plot(x_new, y_new, '-', color = 'r', alpha = 0.5, label = 'fitted')\n",
        "plt.xlim([x[0]-1, x[-1]+1])\n",
        "plt.legend()\n",
        "plt.show()\n",
        "plt.savefig('Seoul.png', dpi = 300)"
      ],
      "metadata": {
        "id": "ORKj0z3JZFsj",
        "colab": {
          "base_uri": "https://localhost:8080/",
          "height": 586
        },
        "outputId": "cdc780a6-5c6a-4e3f-a97d-696573f8737e"
      },
      "execution_count": null,
      "outputs": [
        {
          "output_type": "stream",
          "name": "stdout",
          "text": [
            "[ 1.          1.57894737  2.15789474  2.73684211  3.31578947  3.89473684\n",
            "  4.47368421  5.05263158  5.63157895  6.21052632  6.78947368  7.36842105\n",
            "  7.94736842  8.52631579  9.10526316  9.68421053 10.26315789 10.84210526\n",
            " 11.42105263 12.        ]\n",
            "[ 1.          1.57894737  2.15789474  2.73684211  3.31578947  3.89473684\n",
            "  4.47368421  5.05263158  5.63157895  6.21052632  6.78947368  7.36842105\n",
            "  7.94736842  8.52631579  9.10526316  9.68421053 10.26315789 10.84210526\n",
            " 11.42105263 12.        ]\n"
          ]
        },
        {
          "output_type": "display_data",
          "data": {
            "text/plain": [
              "<Figure size 640x480 with 1 Axes>"
            ],
            "image/png": "[encoded data removed]"
          },
          "metadata": {}
        },
        {
          "output_type": "display_data",
          "data": {
            "text/plain": [
              "<Figure size 640x480 with 0 Axes>"
            ]
          },
          "metadata": {}
        }
      ]
    },
    {
      "cell_type": "markdown",
      "source": [
        "Get all the file in the folder"
      ],
      "metadata": {
        "id": "Qv3Vqv7cfHHp"
      }
    },
    {
      "cell_type": "code",
      "source": [
        "import glob\n",
        "glob.glob(\"*\")"
      ],
      "metadata": {
        "id": "R-vSUT9DcnXv",
        "colab": {
          "base_uri": "https://localhost:8080/"
        },
        "outputId": "ff1ac6db-b375-4302-ef99-622729d77398"
      },
      "execution_count": null,
      "outputs": [
        {
          "output_type": "execute_result",
          "data": {
            "text/plain": [
              "['test.pdf', 'Seoul.png', 'test.png', 'sample_data']"
            ]
          },
          "metadata": {},
          "execution_count": 116
        }
      ]
    },
    {
      "cell_type": "markdown",
      "source": [
        "You can also import only certain types of files"
      ],
      "metadata": {
        "id": "n6qk9kE8fXNv"
      }
    },
    {
      "cell_type": "code",
      "source": [
        "glob.glob(\"*.ipynp\")"
      ],
      "metadata": {
        "colab": {
          "base_uri": "https://localhost:8080/"
        },
        "id": "cs_gC_w2fQXT",
        "outputId": "9a84934d-ce79-4749-e5db-49388d837b9e"
      },
      "execution_count": null,
      "outputs": [
        {
          "output_type": "execute_result",
          "data": {
            "text/plain": [
              "[]"
            ]
          },
          "metadata": {},
          "execution_count": 117
        }
      ]
    },
    {
      "cell_type": "code",
      "source": [
        "glob.glob(\"*t*\")"
      ],
      "metadata": {
        "colab": {
          "base_uri": "https://localhost:8080/"
        },
        "id": "JO5AJZyyfhbu",
        "outputId": "09caaf21-516a-4b6c-9da2-3909037fd3af"
      },
      "execution_count": null,
      "outputs": [
        {
          "output_type": "execute_result",
          "data": {
            "text/plain": [
              "['test.pdf', 'test.png', 'sample_data']"
            ]
          },
          "metadata": {},
          "execution_count": 118
        }
      ]
    },
    {
      "cell_type": "markdown",
      "source": [
        "To save the file"
      ],
      "metadata": {
        "id": "TqqhlKSrfsOp"
      }
    },
    {
      "cell_type": "code",
      "source": [
        "temStringList = ['To be, or not to be,', 'that is the question:']\n",
        "a = open('Hamlet.txt', 'w')\n",
        "print(''.join(temStringList))\n",
        "print(' '.join(temStringList))\n",
        "print('\\n'.join(temStringList))\n",
        "a.write('\\n'.join(temStringList))\n",
        "a.close()"
      ],
      "metadata": {
        "colab": {
          "base_uri": "https://localhost:8080/"
        },
        "id": "zjFjyIlpfpAw",
        "outputId": "bd1cf7fc-f12a-45a5-d978-fe15ec804554"
      },
      "execution_count": null,
      "outputs": [
        {
          "output_type": "stream",
          "name": "stdout",
          "text": [
            "To be, or not to be,that is the question:\n",
            "To be, or not to be, that is the question:\n",
            "To be, or not to be,\n",
            "that is the question:\n"
          ]
        }
      ]
    },
    {
      "cell_type": "markdown",
      "source": [
        "How to open a file?"
      ],
      "metadata": {
        "id": "u81LFluegufi"
      }
    },
    {
      "cell_type": "code",
      "source": [
        "a = open('Hamlet.txt')\n",
        "print(a)"
      ],
      "metadata": {
        "colab": {
          "base_uri": "https://localhost:8080/"
        },
        "id": "ncjHwqElgTxP",
        "outputId": "4c4d497a-8311-49ab-bf96-322452e7d864"
      },
      "execution_count": null,
      "outputs": [
        {
          "output_type": "stream",
          "name": "stdout",
          "text": [
            "<_io.TextIOWrapper name='Hamlet.txt' mode='r' encoding='utf-8'>\n"
          ]
        }
      ]
    },
    {
      "cell_type": "code",
      "source": [
        "b = a.readline()\n",
        "print(b)\n",
        "a.close()"
      ],
      "metadata": {
        "colab": {
          "base_uri": "https://localhost:8080/"
        },
        "id": "GI3anEgYg8i_",
        "outputId": "71957de0-6e97-4721-ca07-c0fa207177d8"
      },
      "execution_count": null,
      "outputs": [
        {
          "output_type": "stream",
          "name": "stdout",
          "text": [
            "that is the question:\n"
          ]
        }
      ]
    },
    {
      "cell_type": "markdown",
      "source": [
        "You can read the file and save it as a list immediately. This is also pretty useful"
      ],
      "metadata": {
        "id": "do6twwmZhQ7i"
      }
    },
    {
      "cell_type": "code",
      "source": [
        "a = open('Hamlet.txt')\n",
        "b = a.readline()\n",
        "print(b)"
      ],
      "metadata": {
        "colab": {
          "base_uri": "https://localhost:8080/"
        },
        "id": "xvKFkI9OhBmn",
        "outputId": "ac73e8f2-fa9e-4209-84e4-35590eb4f67a"
      },
      "execution_count": null,
      "outputs": [
        {
          "output_type": "stream",
          "name": "stdout",
          "text": [
            "To be, or not to be,\n",
            "\n"
          ]
        }
      ]
    },
    {
      "cell_type": "markdown",
      "source": [
        "With python, you can also run Unix commands"
      ],
      "metadata": {
        "id": "rMzHXDfOhiFE"
      }
    },
    {
      "cell_type": "code",
      "source": [
        "import os\n",
        "os.system(\"cp Hamplet.txt Hamplet_copied.txt\")\n"
      ],
      "metadata": {
        "colab": {
          "base_uri": "https://localhost:8080/"
        },
        "id": "sGkXsYC0hg5Z",
        "outputId": "0f5cd097-0bb1-4c19-a674-5c2d2d882371"
      },
      "execution_count": null,
      "outputs": [
        {
          "output_type": "execute_result",
          "data": {
            "text/plain": [
              "256"
            ]
          },
          "metadata": {},
          "execution_count": 127
        }
      ]
    },
    {
      "cell_type": "code",
      "source": [
        "os.system(\"rm Hamlet_copied.txt\")"
      ],
      "metadata": {
        "colab": {
          "base_uri": "https://localhost:8080/"
        },
        "id": "kvLC99a4h2Wx",
        "outputId": "37fb69ab-e71d-4bc1-f8d2-416e019daa09"
      },
      "execution_count": null,
      "outputs": [
        {
          "output_type": "execute_result",
          "data": {
            "text/plain": [
              "256"
            ]
          },
          "metadata": {},
          "execution_count": 128
        }
      ]
    },
    {
      "cell_type": "code",
      "source": [
        "os.system(\"touch 1.txt\")"
      ],
      "metadata": {
        "colab": {
          "base_uri": "https://localhost:8080/"
        },
        "id": "ByybABOjiASm",
        "outputId": "94f601ed-7a0b-4176-c676-54af08f9eadf"
      },
      "execution_count": null,
      "outputs": [
        {
          "output_type": "execute_result",
          "data": {
            "text/plain": [
              "0"
            ]
          },
          "metadata": {},
          "execution_count": 129
        }
      ]
    },
    {
      "cell_type": "markdown",
      "source": [
        "Change the name of files"
      ],
      "metadata": {
        "id": "WkEkKxJYiHHJ"
      }
    },
    {
      "cell_type": "code",
      "source": [
        "os.rename(\"1.txt\", \"2.txt\")"
      ],
      "metadata": {
        "id": "5uStUcEqiFG1"
      },
      "execution_count": null,
      "outputs": []
    },
    {
      "cell_type": "code",
      "source": [
        "os.system(\"mkdir test\")"
      ],
      "metadata": {
        "colab": {
          "base_uri": "https://localhost:8080/"
        },
        "id": "A9-3IHv8iQSV",
        "outputId": "9e1797d6-c89e-4ef0-e8de-3820461634de"
      },
      "execution_count": null,
      "outputs": [
        {
          "output_type": "execute_result",
          "data": {
            "text/plain": [
              "0"
            ]
          },
          "metadata": {},
          "execution_count": 131
        }
      ]
    },
    {
      "cell_type": "code",
      "source": [
        "os.system(\"rmdir test\")"
      ],
      "metadata": {
        "colab": {
          "base_uri": "https://localhost:8080/"
        },
        "id": "5nyRPVUNiVW1",
        "outputId": "ea45c768-b61d-4ff1-b875-8b61c62fbd8c"
      },
      "execution_count": null,
      "outputs": [
        {
          "output_type": "execute_result",
          "data": {
            "text/plain": [
              "0"
            ]
          },
          "metadata": {},
          "execution_count": 132
        }
      ]
    },
    {
      "cell_type": "markdown",
      "source": [
        "makedirs to make folders"
      ],
      "metadata": {
        "id": "WJj_HYTAiprO"
      }
    },
    {
      "cell_type": "code",
      "source": [
        "os.makedirs('temp/temp')"
      ],
      "metadata": {
        "id": "Fc4h1VKVit93"
      },
      "execution_count": null,
      "outputs": []
    },
    {
      "cell_type": "markdown",
      "source": [
        "Delete of the folder"
      ],
      "metadata": {
        "id": "cRD-BTEnijRh"
      }
    },
    {
      "cell_type": "code",
      "source": [
        "os.removedirs('temp/temp')"
      ],
      "metadata": {
        "id": "QYmzolhqiekD"
      },
      "execution_count": null,
      "outputs": []
    },
    {
      "cell_type": "markdown",
      "source": [
        "Your current location, and change it"
      ],
      "metadata": {
        "id": "wXzhJGv1i_vv"
      }
    },
    {
      "cell_type": "code",
      "source": [
        "os.getcwd()"
      ],
      "metadata": {
        "colab": {
          "base_uri": "https://localhost:8080/",
          "height": 36
        },
        "id": "Q5T2CjANi9Qg",
        "outputId": "6da6d680-7b9b-4602-e250-7a345151463d"
      },
      "execution_count": null,
      "outputs": [
        {
          "output_type": "execute_result",
          "data": {
            "text/plain": [
              "'/content'"
            ],
            "application/vnd.google.colaboratory.intrinsic+json": {
              "type": "string"
            }
          },
          "metadata": {},
          "execution_count": 136
        }
      ]
    },
    {
      "cell_type": "code",
      "source": [
        "os.chdir(\"../\")\n",
        "os.getcwd()"
      ],
      "metadata": {
        "colab": {
          "base_uri": "https://localhost:8080/",
          "height": 36
        },
        "id": "URa3CXmOjINZ",
        "outputId": "f9a0d4d7-0520-48f5-9ff9-007b40eb281b"
      },
      "execution_count": null,
      "outputs": [
        {
          "output_type": "execute_result",
          "data": {
            "text/plain": [
              "'/'"
            ],
            "application/vnd.google.colaboratory.intrinsic+json": {
              "type": "string"
            }
          },
          "metadata": {},
          "execution_count": 137
        }
      ]
    },
    {
      "cell_type": "code",
      "source": [
        "os.listdir()"
      ],
      "metadata": {
        "id": "GtBU6YftjVrX",
        "outputId": "8e49db73-480d-449d-a30e-0880ebe95186",
        "colab": {
          "base_uri": "https://localhost:8080/"
        }
      },
      "execution_count": null,
      "outputs": [
        {
          "output_type": "execute_result",
          "data": {
            "text/plain": [
              "['root',\n",
              " 'lib',\n",
              " 'sbin',\n",
              " 'boot',\n",
              " 'libx32',\n",
              " 'opt',\n",
              " 'usr',\n",
              " 'tmp',\n",
              " 'home',\n",
              " 'proc',\n",
              " 'bin',\n",
              " 'media',\n",
              " 'lib32',\n",
              " 'var',\n",
              " 'lib64',\n",
              " 'dev',\n",
              " 'etc',\n",
              " 'mnt',\n",
              " 'sys',\n",
              " 'srv',\n",
              " 'run',\n",
              " 'kaggle',\n",
              " 'content',\n",
              " '.dockerenv',\n",
              " 'tools',\n",
              " 'datalab',\n",
              " 'python-apt',\n",
              " 'python-apt.tar.xz',\n",
              " 'NGC-DL-CONTAINER-LICENSE',\n",
              " 'cuda-keyring_1.1-1_all.deb']"
            ]
          },
          "metadata": {},
          "execution_count": 138
        }
      ]
    },
    {
      "cell_type": "code",
      "source": [],
      "metadata": {
        "id": "JguRrDkfjX8F"
      },
      "execution_count": null,
      "outputs": []
    }
  ]
}
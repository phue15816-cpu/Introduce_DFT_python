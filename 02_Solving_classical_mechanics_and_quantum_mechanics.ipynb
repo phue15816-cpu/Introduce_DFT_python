{
  "nbformat": 4,
  "nbformat_minor": 0,
  "metadata": {
    "colab": {
      "provenance": []
    },
    "kernelspec": {
      "name": "python3",
      "display_name": "Python 3"
    },
    "language_info": {
      "name": "python"
    }
  },
  "cells": [
    {
      "cell_type": "markdown",
      "source": [
        "#classical mechanics\n",
        "\n",
        "$ F = ma = m \\frac{d^2x}{dt}$\n"
      ],
      "metadata": {
        "id": "iRKfnDi35vLN"
      }
    },
    {
      "cell_type": "code",
      "source": [
        "import numpy as np"
      ],
      "metadata": {
        "id": "-LufJ_DT6Tx0"
      },
      "execution_count": 114,
      "outputs": []
    },
    {
      "cell_type": "markdown",
      "source": [
        "We first generate a grid for the time domain"
      ],
      "metadata": {
        "id": "J96v9XcE6d4t"
      }
    },
    {
      "cell_type": "code",
      "source": [
        "pts = 101"
      ],
      "metadata": {
        "id": "5hM3cVo66dKJ"
      },
      "execution_count": 115,
      "outputs": []
    },
    {
      "cell_type": "code",
      "source": [
        "t = np.linspace(0, 2, pts)"
      ],
      "metadata": {
        "id": "N0U0yxD66lzs"
      },
      "execution_count": 116,
      "outputs": []
    },
    {
      "cell_type": "code",
      "source": [
        "t"
      ],
      "metadata": {
        "colab": {
          "base_uri": "https://localhost:8080/"
        },
        "id": "Zq5q8HWm6qts",
        "outputId": "b323105b-e1f7-4b12-fb28-18797f70220b"
      },
      "execution_count": 117,
      "outputs": [
        {
          "output_type": "execute_result",
          "data": {
            "text/plain": [
              "array([0.  , 0.02, 0.04, 0.06, 0.08, 0.1 , 0.12, 0.14, 0.16, 0.18, 0.2 ,\n",
              "       0.22, 0.24, 0.26, 0.28, 0.3 , 0.32, 0.34, 0.36, 0.38, 0.4 , 0.42,\n",
              "       0.44, 0.46, 0.48, 0.5 , 0.52, 0.54, 0.56, 0.58, 0.6 , 0.62, 0.64,\n",
              "       0.66, 0.68, 0.7 , 0.72, 0.74, 0.76, 0.78, 0.8 , 0.82, 0.84, 0.86,\n",
              "       0.88, 0.9 , 0.92, 0.94, 0.96, 0.98, 1.  , 1.02, 1.04, 1.06, 1.08,\n",
              "       1.1 , 1.12, 1.14, 1.16, 1.18, 1.2 , 1.22, 1.24, 1.26, 1.28, 1.3 ,\n",
              "       1.32, 1.34, 1.36, 1.38, 1.4 , 1.42, 1.44, 1.46, 1.48, 1.5 , 1.52,\n",
              "       1.54, 1.56, 1.58, 1.6 , 1.62, 1.64, 1.66, 1.68, 1.7 , 1.72, 1.74,\n",
              "       1.76, 1.78, 1.8 , 1.82, 1.84, 1.86, 1.88, 1.9 , 1.92, 1.94, 1.96,\n",
              "       1.98, 2.  ])"
            ]
          },
          "metadata": {},
          "execution_count": 117
        }
      ]
    },
    {
      "cell_type": "code",
      "source": [
        "len(t)"
      ],
      "metadata": {
        "colab": {
          "base_uri": "https://localhost:8080/"
        },
        "id": "D9ng94y96r-z",
        "outputId": "72c8b827-6a8e-4453-ff2c-4bc44adda4ba"
      },
      "execution_count": 118,
      "outputs": [
        {
          "output_type": "execute_result",
          "data": {
            "text/plain": [
              "101"
            ]
          },
          "metadata": {},
          "execution_count": 118
        }
      ]
    },
    {
      "cell_type": "markdown",
      "source": [
        "The time difference between two data point"
      ],
      "metadata": {
        "id": "o7SEOY_E7Q0_"
      }
    },
    {
      "cell_type": "code",
      "source": [
        "dt = t[1] -t[0]\n",
        "print(t)"
      ],
      "metadata": {
        "colab": {
          "base_uri": "https://localhost:8080/"
        },
        "id": "Yfg4tHF16u94",
        "outputId": "e3b1ff5a-20a4-448c-bdb4-22f9d83b4df4"
      },
      "execution_count": 119,
      "outputs": [
        {
          "output_type": "stream",
          "name": "stdout",
          "text": [
            "[0.   0.02 0.04 0.06 0.08 0.1  0.12 0.14 0.16 0.18 0.2  0.22 0.24 0.26\n",
            " 0.28 0.3  0.32 0.34 0.36 0.38 0.4  0.42 0.44 0.46 0.48 0.5  0.52 0.54\n",
            " 0.56 0.58 0.6  0.62 0.64 0.66 0.68 0.7  0.72 0.74 0.76 0.78 0.8  0.82\n",
            " 0.84 0.86 0.88 0.9  0.92 0.94 0.96 0.98 1.   1.02 1.04 1.06 1.08 1.1\n",
            " 1.12 1.14 1.16 1.18 1.2  1.22 1.24 1.26 1.28 1.3  1.32 1.34 1.36 1.38\n",
            " 1.4  1.42 1.44 1.46 1.48 1.5  1.52 1.54 1.56 1.58 1.6  1.62 1.64 1.66\n",
            " 1.68 1.7  1.72 1.74 1.76 1.78 1.8  1.82 1.84 1.86 1.88 1.9  1.92 1.94\n",
            " 1.96 1.98 2.  ]\n"
          ]
        }
      ]
    },
    {
      "cell_type": "code",
      "source": [
        "(2-0)/ (101-1)"
      ],
      "metadata": {
        "colab": {
          "base_uri": "https://localhost:8080/"
        },
        "id": "_GcKrpE17Br-",
        "outputId": "ffa75c27-ceaa-48e9-82c8-119bb7da6c0b"
      },
      "execution_count": 120,
      "outputs": [
        {
          "output_type": "execute_result",
          "data": {
            "text/plain": [
              "0.02"
            ]
          },
          "metadata": {},
          "execution_count": 120
        }
      ]
    },
    {
      "cell_type": "markdown",
      "source": [
        "Creat an array to store position, velocity, and acceleration in two dimensions"
      ],
      "metadata": {
        "id": "xxCRDOdK7fTP"
      }
    },
    {
      "cell_type": "code",
      "source": [
        "position = np.zeros((pts, 2))\n",
        "position"
      ],
      "metadata": {
        "colab": {
          "base_uri": "https://localhost:8080/"
        },
        "id": "ZIWN1Mp37czc",
        "outputId": "a2a830ec-3c03-4f3a-aa80-dcb4552b935d"
      },
      "execution_count": 121,
      "outputs": [
        {
          "output_type": "execute_result",
          "data": {
            "text/plain": [
              "array([[0., 0.],\n",
              "       [0., 0.],\n",
              "       [0., 0.],\n",
              "       [0., 0.],\n",
              "       [0., 0.],\n",
              "       [0., 0.],\n",
              "       [0., 0.],\n",
              "       [0., 0.],\n",
              "       [0., 0.],\n",
              "       [0., 0.],\n",
              "       [0., 0.],\n",
              "       [0., 0.],\n",
              "       [0., 0.],\n",
              "       [0., 0.],\n",
              "       [0., 0.],\n",
              "       [0., 0.],\n",
              "       [0., 0.],\n",
              "       [0., 0.],\n",
              "       [0., 0.],\n",
              "       [0., 0.],\n",
              "       [0., 0.],\n",
              "       [0., 0.],\n",
              "       [0., 0.],\n",
              "       [0., 0.],\n",
              "       [0., 0.],\n",
              "       [0., 0.],\n",
              "       [0., 0.],\n",
              "       [0., 0.],\n",
              "       [0., 0.],\n",
              "       [0., 0.],\n",
              "       [0., 0.],\n",
              "       [0., 0.],\n",
              "       [0., 0.],\n",
              "       [0., 0.],\n",
              "       [0., 0.],\n",
              "       [0., 0.],\n",
              "       [0., 0.],\n",
              "       [0., 0.],\n",
              "       [0., 0.],\n",
              "       [0., 0.],\n",
              "       [0., 0.],\n",
              "       [0., 0.],\n",
              "       [0., 0.],\n",
              "       [0., 0.],\n",
              "       [0., 0.],\n",
              "       [0., 0.],\n",
              "       [0., 0.],\n",
              "       [0., 0.],\n",
              "       [0., 0.],\n",
              "       [0., 0.],\n",
              "       [0., 0.],\n",
              "       [0., 0.],\n",
              "       [0., 0.],\n",
              "       [0., 0.],\n",
              "       [0., 0.],\n",
              "       [0., 0.],\n",
              "       [0., 0.],\n",
              "       [0., 0.],\n",
              "       [0., 0.],\n",
              "       [0., 0.],\n",
              "       [0., 0.],\n",
              "       [0., 0.],\n",
              "       [0., 0.],\n",
              "       [0., 0.],\n",
              "       [0., 0.],\n",
              "       [0., 0.],\n",
              "       [0., 0.],\n",
              "       [0., 0.],\n",
              "       [0., 0.],\n",
              "       [0., 0.],\n",
              "       [0., 0.],\n",
              "       [0., 0.],\n",
              "       [0., 0.],\n",
              "       [0., 0.],\n",
              "       [0., 0.],\n",
              "       [0., 0.],\n",
              "       [0., 0.],\n",
              "       [0., 0.],\n",
              "       [0., 0.],\n",
              "       [0., 0.],\n",
              "       [0., 0.],\n",
              "       [0., 0.],\n",
              "       [0., 0.],\n",
              "       [0., 0.],\n",
              "       [0., 0.],\n",
              "       [0., 0.],\n",
              "       [0., 0.],\n",
              "       [0., 0.],\n",
              "       [0., 0.],\n",
              "       [0., 0.],\n",
              "       [0., 0.],\n",
              "       [0., 0.],\n",
              "       [0., 0.],\n",
              "       [0., 0.],\n",
              "       [0., 0.],\n",
              "       [0., 0.],\n",
              "       [0., 0.],\n",
              "       [0., 0.],\n",
              "       [0., 0.],\n",
              "       [0., 0.],\n",
              "       [0., 0.]])"
            ]
          },
          "metadata": {},
          "execution_count": 121
        }
      ]
    },
    {
      "cell_type": "code",
      "source": [
        "velocity = np.zeros((pts, 2))\n",
        "acceleration = np.zeros((pts, 2))"
      ],
      "metadata": {
        "id": "GnoAMM8e7tza"
      },
      "execution_count": 122,
      "outputs": []
    },
    {
      "cell_type": "markdown",
      "source": [
        "Mass of a given particle is"
      ],
      "metadata": {
        "id": "Z7yjF5-r8C6t"
      }
    },
    {
      "cell_type": "code",
      "source": [
        "mass = 10 #kg"
      ],
      "metadata": {
        "id": "id0YmNUT7_gf"
      },
      "execution_count": 123,
      "outputs": []
    },
    {
      "cell_type": "markdown",
      "source": [
        "Now we provide the initial conditions"
      ],
      "metadata": {
        "id": "NLYjsOFb8JHY"
      }
    },
    {
      "cell_type": "code",
      "source": [
        "position[0][0] = 0.0\n",
        "position[0][1] = 0.0\n",
        "\n",
        "velocity[0][0] = 10.0\n",
        "velocity[0][1] = 10.0\n",
        "\n",
        "acceleration[0][0] = 0.0\n",
        "acceleration[0][1] = -9.8"
      ],
      "metadata": {
        "id": "_IwoukW_8HYx"
      },
      "execution_count": 124,
      "outputs": []
    },
    {
      "cell_type": "markdown",
      "source": [
        "As you can see here, we are throwing an object from the origin\n",
        "\n",
        "we only consider an acceleration of gravity at the surface of the Earth\n",
        "\n",
        "\n",
        "next, we obtain position and velocity at the next time step"
      ],
      "metadata": {
        "id": "VMLQNr9r8rRe"
      }
    },
    {
      "cell_type": "markdown",
      "source": [
        "$$r(t+\\Delta) = r(t) + \\frac{dr(t)}{dt} \\Delta + \\frac{1}{2!}\\frac{dr(t)^2}{dt^2} \\Delta t^2 + \\frac{1}{3!} \\frac{d^3r(t)}{dt^3} \\Delta t^3\n",
        "$$\n",
        "\n",
        "$$r(t+\\Delta t) = r(t) + v(t) \\Delta t +  \\frac{1}{2!}\\frac{dr(t)^2}{dt^2} \\Delta t^2 + \\frac{1}{3!} \\frac{d^3r(t)}{dt^3} \\Delta t^3\n",
        "$$\n",
        "\n",
        "$$r(t-\\Delta t) = r(t) - v(t) \\Delta t +  \\frac{1}{2!}\\frac{dr(t)^2}{dt^2} \\Delta t^2 - \\frac{1}{3!} \\frac{d^3r(t)}{dt^3} \\Delta t^3\n",
        "$$"
      ],
      "metadata": {
        "id": "8h1Ceakg9FJn"
      }
    },
    {
      "cell_type": "markdown",
      "source": [
        "Eliminate the linear and cubic terms\n",
        "\n",
        "\n",
        "$$r(t+\\Delta t) + r(t-\\Delta t) = 2r(t)  +  a(t) \\Delta t^2\n",
        "$$\n",
        "\n",
        "In other words,\n",
        "$$r(t+\\Delta t)  = 2r(t)  +  a(t) \\Delta t^2 - r(t-\\Delta t)\n",
        "$$"
      ],
      "metadata": {
        "id": "8AM_Wu1t_M2x"
      }
    },
    {
      "cell_type": "markdown",
      "source": [
        "$$r(\\Delta t)  = r(0)  +  v(0) \\Delta t + \\frac{1}{2}a(0) \\Delta t^2\n",
        "$$"
      ],
      "metadata": {
        "id": "Fn8v8w0SAgUN"
      }
    },
    {
      "cell_type": "code",
      "source": [
        "position[1] = position[0] + velocity[0] * dt + acceleration[0] * dt * dt /2"
      ],
      "metadata": {
        "id": "3WLW6rbc8l12"
      },
      "execution_count": 125,
      "outputs": []
    },
    {
      "cell_type": "code",
      "source": [
        "acceleration[1] = np.array([0, -9.8])"
      ],
      "metadata": {
        "id": "0QCMMd8IBPDe"
      },
      "execution_count": 126,
      "outputs": []
    },
    {
      "cell_type": "code",
      "source": [
        "for i in range(1, pts - 1):\n",
        "  acceleration[i] = np.array([0, -9.8])\n",
        "  position[i+1]= (2* position[i]) - position[i-1] + acceleration[i] *dt*dt"
      ],
      "metadata": {
        "id": "hCPLUetHBY_Z"
      },
      "execution_count": 127,
      "outputs": []
    },
    {
      "cell_type": "markdown",
      "source": [
        "Now we plot the trajectory"
      ],
      "metadata": {
        "id": "mJfQlEWDB6hn"
      }
    },
    {
      "cell_type": "code",
      "source": [
        "import matplotlib.pyplot as plt\n",
        "fig, ax = plt.subplots(figsize=(3, 4))\n",
        "plt.plot(position[:, 0], position[:, 1], color = 'b', ls = '-')\n",
        "plt.xlabel('x (m)')\n",
        "plt.ylabel('y (m)')\n"
      ],
      "metadata": {
        "colab": {
          "base_uri": "https://localhost:8080/",
          "height": 406
        },
        "id": "ekJnSzzHBdYu",
        "outputId": "7746dc5d-3435-4f05-dd33-b114c1f258e0"
      },
      "execution_count": 128,
      "outputs": [
        {
          "output_type": "execute_result",
          "data": {
            "text/plain": [
              "Text(0, 0.5, 'y (m)')"
            ]
          },
          "metadata": {},
          "execution_count": 128
        },
        {
          "output_type": "display_data",
          "data": {
            "text/plain": [
              "<Figure size 300x400 with 1 Axes>"
            ],
            "image/png": "[encoded data removed]"
          },
          "metadata": {}
        }
      ]
    },
    {
      "cell_type": "markdown",
      "source": [
        "# circular motion using velocity verlet"
      ],
      "metadata": {
        "id": "8znN-gTcCxn4"
      }
    },
    {
      "cell_type": "markdown",
      "source": [
        "Again, we generate a grid for the time domain"
      ],
      "metadata": {
        "id": "D69rVXs9C2MB"
      }
    },
    {
      "cell_type": "code",
      "source": [
        "pts = 101\n",
        "t = np.linspace(0, 10, pts)"
      ],
      "metadata": {
        "id": "mS6X4KHcCYrN"
      },
      "execution_count": 129,
      "outputs": []
    },
    {
      "cell_type": "markdown",
      "source": [
        "Time difference between two data points is"
      ],
      "metadata": {
        "id": "MqCVLbvDDBQt"
      }
    },
    {
      "cell_type": "code",
      "source": [
        "dt = t[1] - [0]\n",
        "print(dt)"
      ],
      "metadata": {
        "colab": {
          "base_uri": "https://localhost:8080/"
        },
        "id": "PaaU1fWYDAZc",
        "outputId": "5bfc2a54-c3f4-47c2-e00e-7a15df80fc64"
      },
      "execution_count": 130,
      "outputs": [
        {
          "output_type": "stream",
          "name": "stdout",
          "text": [
            "[0.1]\n"
          ]
        }
      ]
    },
    {
      "cell_type": "markdown",
      "source": [
        "Create an array to store position, velocity, and acceleration in two **dimension**"
      ],
      "metadata": {
        "id": "uEzXh_VbDNpy"
      }
    },
    {
      "cell_type": "code",
      "source": [
        "position = np.zeros((pts, 2))\n",
        "velocity = np.zeros ((pts, 2))\n",
        "acceleration = np.zeros((pts, 2))"
      ],
      "metadata": {
        "id": "EomeaMSEDLHR"
      },
      "execution_count": 131,
      "outputs": []
    },
    {
      "cell_type": "markdown",
      "source": [
        "Mass of a given particle is"
      ],
      "metadata": {
        "id": "QfsB11mODqmp"
      }
    },
    {
      "cell_type": "code",
      "source": [
        "mass = 10 #kg"
      ],
      "metadata": {
        "id": "UgT0HvUaDpdw"
      },
      "execution_count": 132,
      "outputs": []
    },
    {
      "cell_type": "markdown",
      "source": [
        "Now we provide the initial conditions"
      ],
      "metadata": {
        "id": "MiCEufKFDwt9"
      }
    },
    {
      "cell_type": "code",
      "source": [
        "position[0] = np.array([1,0])\n",
        "velocity[0]= np.array([0,1])"
      ],
      "metadata": {
        "id": "_f5TxMAJDvUm"
      },
      "execution_count": 133,
      "outputs": []
    },
    {
      "cell_type": "markdown",
      "source": [
        "$$ a = -\\vec{r} \\rightarrow U = \\frac{1}{2}r^2$$"
      ],
      "metadata": {
        "id": "2M5gTiXD_nCe"
      }
    },
    {
      "cell_type": "code",
      "source": [
        "acceleration[0] = -position[0]"
      ],
      "metadata": {
        "id": "fYmG8Pmo_bDZ"
      },
      "execution_count": 134,
      "outputs": []
    },
    {
      "cell_type": "markdown",
      "source": [
        "$$v(t+ \\frac{1}{2} \\Delta {t}) = v(t) + \\frac{1}{2}a(t) \\Delta{t} $$\n",
        "\n",
        "$$r(t + \\Delta{t}) = r(t) +v(t+\\frac{1}{2} \\Delta{t}) \\Delta{t} $$\n",
        "\n",
        "$$ a(t + \\Delta t) = -\\frac{\\partial U}{\\partial r}|_{r(t +\\Delta t)} $$\n",
        "\n",
        "$$ v(t+ \\Delta t)= v(t+ \\frac{1}{2} \\Delta t) + \\frac{1}{2}a(t+ \\Delta t) \\Delta t$$"
      ],
      "metadata": {
        "id": "3cjqEHXCAKC4"
      }
    },
    {
      "cell_type": "code",
      "source": [
        "for i in range(pts -1):\n",
        "  velocity_mid = velocity[i] + 0.5 * acceleration[i] * dt\n",
        "  position[i+1] = position[i] +velocity_mid * dt\n",
        "  acceleration[i+1] = -position[i+1]\n",
        "  velocity[i + 1] = velocity_mid + 0.5*acceleration[i+1]*dt\n"
      ],
      "metadata": {
        "id": "d9uJl7bCAJT1"
      },
      "execution_count": 135,
      "outputs": []
    },
    {
      "cell_type": "markdown",
      "source": [
        "Now we plot the trajectory"
      ],
      "metadata": {
        "id": "SuZxFvrOC-fO"
      }
    },
    {
      "cell_type": "code",
      "source": [
        "import matplotlib.pyplot as plt\n",
        "fig, ax = plt.subplots(figsize = (3,4))\n",
        "plt.plot(position[:, 0], position [:, 1], color = 'b', ls = '-', ms=1)\n",
        "plt.xlabel('x (m)')\n",
        "plt.ylabel('y (m)')"
      ],
      "metadata": {
        "colab": {
          "base_uri": "https://localhost:8080/",
          "height": 406
        },
        "id": "UKqI3qAUC9pV",
        "outputId": "04c89ce9-eb12-467e-b81d-055f4008019b"
      },
      "execution_count": 136,
      "outputs": [
        {
          "output_type": "execute_result",
          "data": {
            "text/plain": [
              "Text(0, 0.5, 'y (m)')"
            ]
          },
          "metadata": {},
          "execution_count": 136
        },
        {
          "output_type": "display_data",
          "data": {
            "text/plain": [
              "<Figure size 300x400 with 1 Axes>"
            ],
            "image/png": "[encoded data removed]"
          },
          "metadata": {}
        }
      ]
    },
    {
      "cell_type": "markdown",
      "source": [
        "# Particle in a box (quantum mechanics)"
      ],
      "metadata": {
        "id": "4cT3l5PDKvaY"
      }
    },
    {
      "cell_type": "markdown",
      "source": [
        "The Schrodinger equation is writen as follow:\n",
        "\n",
        "$$H\\psi(x)=\\left[ -\\frac{\\hbar^2}{2m} \\frac{\\partial^2}{\\partial x^2} + V(x) \\right] \\psi = E\\psi(x)$$\n"
      ],
      "metadata": {
        "id": "sZ0teTS_K0QF"
      }
    },
    {
      "cell_type": "markdown",
      "source": [
        "In a matrix form:\n",
        "$$ -\\frac{\\hbar^2}{2m} \\frac{\\psi_{n+1} + \\psi_{n-1} -2\\psi_n}{\\delta x^2} + V_n \\psi_n = E \\psi_n$$\n",
        "\n",
        "where $$ \\delta x = x_n - x_{n-1} =x_{n+1} - x_n$$"
      ],
      "metadata": {
        "id": "ZZyu1cAeLqHB"
      }
    },
    {
      "cell_type": "markdown",
      "source": [
        "The first derivative\n",
        "\n",
        "$$ \\frac{d\\psi(x)}{dx} = \\frac{\\psi(x+h) - \\psi (x)}{h} = \\frac{\\psi(x) - \\psi (x-h)}{h}$$\n",
        "\n",
        "$$ \\frac {d^2 \\psi (x)}{dx^2} = \\frac { \\frac{\\psi(x+h)- \\psi(x)}{h} - \\frac{\\psi (x) - \\psi (x-h)}{h}}{h}$$\n",
        "\n",
        "$$ \\frac{d\\psi(x)}{dx} = \\frac{\\psi(x+h) - \\psi (x-h) - 2 \\psi(x)}{h^2} $$"
      ],
      "metadata": {
        "id": "Ldy2-V2FNMQT"
      }
    },
    {
      "cell_type": "markdown",
      "source": [
        "For instance, if we only have  4 points, we have a 4x4 matrix\n"
      ],
      "metadata": {
        "id": "kkYUUmV0Pds_"
      }
    },
    {
      "cell_type": "markdown",
      "source": [
        "$$-\\frac{\\hbar^2}{2m}\n",
        "\\left(\n",
        "\\begin{matrix}\n",
        "\\frac{-2}{\\delta x^2}  & \\frac{1}{\\delta x^2} & 0 & 0 \\\\\n",
        "\\frac{1}{\\delta x^2}  & \\frac{-2}{\\delta x^2} &  \\frac{1}{\\delta x^2} & 0 \\\\\n",
        "0 & \\frac{1}{\\delta x^2}  & \\frac{-2}{\\delta x^2} & \\frac{1}{\\delta x^2} \\\\\n",
        "0 & 0 $ \\frac{1}{\\delta x^2}  & \\frac{-2}{\\delta x^2}  \\\\\n",
        "\\end{matrix}\n",
        "\\right)\n",
        "\\left(\n",
        "\\begin{matrix}\n",
        "\\psi_0 \\\\\n",
        "\\psi_1 \\\\\n",
        "\\psi_2 \\\\\n",
        "\\psi_3\n",
        "\\end {matrix}\n",
        "\\right)\n",
        "+\n",
        "\\left(\n",
        "\\begin{matrix}\n",
        "V_0  & 0 & 0 & 0 \\\\\n",
        "0 & V_1 &  0 & 0 \\\\\n",
        "0 & 0 & V_2 & 0 \\\\\n",
        "0 & 0 & 0   & V_3 \\\\\n",
        "\\end{matrix}\n",
        "\\right)\n",
        "\\left(\n",
        "\\begin{matrix}\n",
        "\\psi_0 \\\\\n",
        "\\psi_1 \\\\\n",
        "\\psi_2 \\\\\n",
        "\\psi_3\n",
        "\\end {matrix}\n",
        "\\right)\n",
        "= E\n",
        "\\left(\n",
        "\\begin{matrix}\n",
        "\\psi_0 \\\\\n",
        "\\psi_1 \\\\\n",
        "\\psi_2 \\\\\n",
        "\\psi_3\n",
        "\\end {matrix}\n",
        "\\right)\n",
        "$$"
      ],
      "metadata": {
        "id": "tmKGdN1ePrBd"
      }
    },
    {
      "cell_type": "markdown",
      "source": [
        "A matrix like the above is called a tridiagonal matrix"
      ],
      "metadata": {
        "id": "G7L6wTIHVLh9"
      }
    },
    {
      "cell_type": "markdown",
      "source": [
        "We are going to use eV and nanometer as units"
      ],
      "metadata": {
        "id": "egEkGhM9VUuC"
      }
    },
    {
      "cell_type": "code",
      "source": [
        "import numpy as np\n",
        "from scipy.constants import hbar, electron_mass, electron_volt\n",
        "m_nm = 10.0**(-9)\n",
        "factor = -hbar*hbar / 2 / electron_mass / electron_volt / m_nm**2\n",
        "factor"
      ],
      "metadata": {
        "colab": {
          "base_uri": "https://localhost:8080/"
        },
        "id": "dMfYJHh5Kqqq",
        "outputId": "7ca2522f-5c85-4b4c-c3a0-37b60795d054"
      },
      "execution_count": 137,
      "outputs": [
        {
          "output_type": "execute_result",
          "data": {
            "text/plain": [
              "-0.03809982110968584"
            ]
          },
          "metadata": {},
          "execution_count": 137
        }
      ]
    },
    {
      "cell_type": "markdown",
      "source": [
        "Now let's calculate the potential for a particle in a box"
      ],
      "metadata": {
        "id": "2njfLH1lWBO9"
      }
    },
    {
      "cell_type": "markdown",
      "source": [
        "It boundary condition is\n",
        "\n",
        "$$\\psi(0) = \\psi (L) = 0$$"
      ],
      "metadata": {
        "id": "xe5RvTmRWMZk"
      }
    },
    {
      "cell_type": "markdown",
      "source": [
        "We are importing necessary libraries"
      ],
      "metadata": {
        "id": "7dnayB4bWbsx"
      }
    },
    {
      "cell_type": "code",
      "source": [
        "import numpy as np\n",
        "import matplotlib.pyplot as plt\n",
        "from scipy.linalg import eigh_tridiagonal"
      ],
      "metadata": {
        "id": "2kA9UjebV5xO"
      },
      "execution_count": 138,
      "outputs": []
    },
    {
      "cell_type": "markdown",
      "source": [
        "Generate a grid for x axis\n"
      ],
      "metadata": {
        "id": "tD0PXhSxWyh4"
      }
    },
    {
      "cell_type": "code",
      "source": [
        "N = 1001\n",
        "length_nm = 10\n",
        "dx = length_nm / (N-1)\n",
        "x = np.linspace(-length_nm/2, length_nm/2, N)\n",
        "\n"
      ],
      "metadata": {
        "id": "gwWQCMh4W2rJ"
      },
      "execution_count": 139,
      "outputs": []
    },
    {
      "cell_type": "code",
      "source": [
        "x"
      ],
      "metadata": {
        "colab": {
          "base_uri": "https://localhost:8080/"
        },
        "id": "rB08ykRXXK0K",
        "outputId": "2e63387b-5897-4fe7-8624-8f9b5d0c0550"
      },
      "execution_count": 140,
      "outputs": [
        {
          "output_type": "execute_result",
          "data": {
            "text/plain": [
              "array([-5.  , -4.99, -4.98, ...,  4.98,  4.99,  5.  ])"
            ]
          },
          "metadata": {},
          "execution_count": 140
        }
      ]
    },
    {
      "cell_type": "markdown",
      "source": [
        "For particles in a box, the potential can be set to an arbitrary value (outside of possible x, the potential is infinite)"
      ],
      "metadata": {
        "id": "bOWisaWnXMSJ"
      }
    },
    {
      "cell_type": "code",
      "source": [
        "V = x*0"
      ],
      "metadata": {
        "id": "w_kxGfpiXLO6"
      },
      "execution_count": 141,
      "outputs": []
    },
    {
      "cell_type": "markdown",
      "source": [
        "write down the diagonal and off-diagonal terms"
      ],
      "metadata": {
        "id": "RshFm0riXfby"
      }
    },
    {
      "cell_type": "code",
      "source": [
        "Hii = -factor * 2 / dx**2 * np.ones(N) + V\n",
        "Hij = factor /dx**2 * np.ones(N-1)\n"
      ],
      "metadata": {
        "id": "Mo5fTAjbXerf"
      },
      "execution_count": 142,
      "outputs": []
    },
    {
      "cell_type": "markdown",
      "source": [
        "Obtain Eigenvalue and eigenvectors"
      ],
      "metadata": {
        "id": "_kCTtfS7YB3Z"
      }
    },
    {
      "cell_type": "code",
      "source": [
        "w, v = eigh_tridiagonal(Hii, Hij)"
      ],
      "metadata": {
        "id": "JQ8dkoBjYBV-"
      },
      "execution_count": 143,
      "outputs": []
    },
    {
      "cell_type": "markdown",
      "source": [
        "Let us plot the probability of the particles"
      ],
      "metadata": {
        "id": "0jvolVrPYTaR"
      }
    },
    {
      "cell_type": "code",
      "source": [
        "for i in range(0,3):\n",
        "  psi = v[:, i]\n",
        "  plt.plot(x, psi**2, label = 'n =' + str(i+1))\n",
        "plt.legend()"
      ],
      "metadata": {
        "colab": {
          "base_uri": "https://localhost:8080/",
          "height": 448
        },
        "id": "wAY-k26QYZe1",
        "outputId": "115abda9-800a-4d0b-a7eb-a7c95764a6b2"
      },
      "execution_count": 144,
      "outputs": [
        {
          "output_type": "execute_result",
          "data": {
            "text/plain": [
              "<matplotlib.legend.Legend at 0x7c6ca9d95dc0>"
            ]
          },
          "metadata": {},
          "execution_count": 144
        },
        {
          "output_type": "display_data",
          "data": {
            "text/plain": [
              "<Figure size 640x480 with 1 Axes>"
            ],
            "image/png": "[encoded data removed]"
          },
          "metadata": {}
        }
      ]
    },
    {
      "cell_type": "markdown",
      "source": [
        "Print the eigenvalues"
      ],
      "metadata": {
        "id": "R87Tf4pKZGEp"
      }
    },
    {
      "cell_type": "code",
      "source": [
        "eigenvalues = w\n",
        "for i in range(10):\n",
        "  print(i+1, eigenvalues[i])"
      ],
      "metadata": {
        "colab": {
          "base_uri": "https://localhost:8080/"
        },
        "id": "LyWV26HCYuAC",
        "outputId": "0303a7cf-1b6e-47d7-e0fc-a2cec225320b"
      },
      "execution_count": 145,
      "outputs": [
        {
          "output_type": "stream",
          "name": "stdout",
          "text": [
            "1 0.003745302350148566\n",
            "2 0.014981172583091612\n",
            "3 0.03370750024767151\n",
            "4 0.05992410125966716\n",
            "5 0.0936307179037024\n",
            "6 0.13482701883577913\n",
            "7 0.18351259908653467\n",
            "8 0.23968698006522232\n",
            "9 0.3033496095644179\n",
            "10 0.3744998617654447\n"
          ]
        }
      ]
    },
    {
      "cell_type": "markdown",
      "source": [
        "Exact solution are\n",
        "\n",
        "$$E_n = \\frac{h^2}{8mL^2}n^2$$"
      ],
      "metadata": {
        "id": "jpgDd78hZYSr"
      }
    },
    {
      "cell_type": "code",
      "source": [
        "from scipy.constants import h\n",
        "L = length_nm * np.power(10.0, -9)\n",
        "m = electron_mass\n",
        "\n",
        "E1 = h*h / 8/m/L/L/electron_volt\n",
        "\n",
        "for i in range(1, 11):\n",
        "  En = E1 *i *i\n",
        "  print(i, En)\n",
        "\n"
      ],
      "metadata": {
        "colab": {
          "base_uri": "https://localhost:8080/"
        },
        "id": "b0MjetcIZVhx",
        "outputId": "b325cdd7-60da-4bde-b42a-67482b9824d4"
      },
      "execution_count": 146,
      "outputs": [
        {
          "output_type": "stream",
          "name": "stdout",
          "text": [
            "1 0.0037603016210487256\n",
            "2 0.015041206484194903\n",
            "3 0.033842714589438536\n",
            "4 0.06016482593677961\n",
            "5 0.09400754052621814\n",
            "6 0.13537085835775414\n",
            "7 0.18425477943138754\n",
            "8 0.24065930374711844\n",
            "9 0.3045844313049468\n",
            "10 0.37603016210487256\n"
          ]
        }
      ]
    },
    {
      "cell_type": "markdown",
      "source": [
        "It is also possible to create the Hamiltonian as follows"
      ],
      "metadata": {
        "id": "oUVa13QVag15"
      }
    },
    {
      "cell_type": "code",
      "source": [
        "from numpy import linalg as LA\n",
        "\n",
        "H = np.asmatrix( np.diag(Hii,0) + np.diag(Hij,-1) + np.diag(Hij,1))\n",
        "w, v = LA.eig(H)"
      ],
      "metadata": {
        "id": "ouvpiLmTaYUc"
      },
      "execution_count": 147,
      "outputs": []
    },
    {
      "cell_type": "code",
      "source": [
        "sortindices = np.argsort(w)"
      ],
      "metadata": {
        "id": "YTkC8jT8bJ2F"
      },
      "execution_count": 148,
      "outputs": []
    },
    {
      "cell_type": "code",
      "source": [
        "EigenVectors = v[:, sortindices]\n",
        "EigValues = w[sortindices]\n"
      ],
      "metadata": {
        "id": "f71jTMGLbqlD"
      },
      "execution_count": 149,
      "outputs": []
    },
    {
      "cell_type": "code",
      "source": [
        "print(EigValues[:10])"
      ],
      "metadata": {
        "colab": {
          "base_uri": "https://localhost:8080/"
        },
        "id": "fkP97BTHb2GQ",
        "outputId": "366857f1-6d86-4bed-b5c9-0e21ac744738"
      },
      "execution_count": 150,
      "outputs": [
        {
          "output_type": "stream",
          "name": "stdout",
          "text": [
            "[0.0037453  0.01498117 0.0337075  0.0599241  0.09363072 0.13482702\n",
            " 0.1835126  0.23968698 0.30334961 0.37449986]\n"
          ]
        }
      ]
    },
    {
      "cell_type": "code",
      "source": [
        "np.diag([-2, -2, -2], 0)"
      ],
      "metadata": {
        "colab": {
          "base_uri": "https://localhost:8080/"
        },
        "id": "3do0XAPrb6Ji",
        "outputId": "fdc96b35-ea4a-4d47-9111-0c87aa859ba2"
      },
      "execution_count": 151,
      "outputs": [
        {
          "output_type": "execute_result",
          "data": {
            "text/plain": [
              "array([[-2,  0,  0],\n",
              "       [ 0, -2,  0],\n",
              "       [ 0,  0, -2]])"
            ]
          },
          "metadata": {},
          "execution_count": 151
        }
      ]
    },
    {
      "cell_type": "code",
      "source": [
        "np.diag([1, 1], -1)"
      ],
      "metadata": {
        "colab": {
          "base_uri": "https://localhost:8080/"
        },
        "id": "mgnhj5eccGMR",
        "outputId": "7059aa0a-3b53-44a1-8ad9-0149fb3ac428"
      },
      "execution_count": 152,
      "outputs": [
        {
          "output_type": "execute_result",
          "data": {
            "text/plain": [
              "array([[0, 0, 0],\n",
              "       [1, 0, 0],\n",
              "       [0, 1, 0]])"
            ]
          },
          "metadata": {},
          "execution_count": 152
        }
      ]
    },
    {
      "cell_type": "code",
      "source": [
        "np.diag([1, 1], 1)"
      ],
      "metadata": {
        "colab": {
          "base_uri": "https://localhost:8080/"
        },
        "id": "PKVhEZ_JcNuv",
        "outputId": "43c484f0-184b-4c90-a5cc-5d4cb2e93579"
      },
      "execution_count": 153,
      "outputs": [
        {
          "output_type": "execute_result",
          "data": {
            "text/plain": [
              "array([[0, 1, 0],\n",
              "       [0, 0, 1],\n",
              "       [0, 0, 0]])"
            ]
          },
          "metadata": {},
          "execution_count": 153
        }
      ]
    },
    {
      "cell_type": "code",
      "source": [
        "np.diag([-2, -2, -2], 0) + np.diag([1, 1], -1) + np.diag([1, 1], 1)"
      ],
      "metadata": {
        "colab": {
          "base_uri": "https://localhost:8080/"
        },
        "id": "FcwDNISZcUaZ",
        "outputId": "349662aa-39f6-47ec-e1f0-854114eda5c7"
      },
      "execution_count": 154,
      "outputs": [
        {
          "output_type": "execute_result",
          "data": {
            "text/plain": [
              "array([[-2,  1,  0],\n",
              "       [ 1, -2,  1],\n",
              "       [ 0,  1, -2]])"
            ]
          },
          "metadata": {},
          "execution_count": 154
        }
      ]
    },
    {
      "cell_type": "markdown",
      "source": [
        "# Simple Harmonic Oscillator"
      ],
      "metadata": {
        "id": "-AgeUiwZcgys"
      }
    },
    {
      "cell_type": "code",
      "source": [
        "N = 1001\n",
        "length_nm = 10\n",
        "dx = length_nm / (N-1)\n",
        "x = np.linspace(-length_nm/2, length_nm/2, N)"
      ],
      "metadata": {
        "id": "-yx9ii2acdOd"
      },
      "execution_count": 155,
      "outputs": []
    },
    {
      "cell_type": "code",
      "source": [
        "k = 1\n",
        "V = k* x**2 /2"
      ],
      "metadata": {
        "id": "op6GWvTdct4q"
      },
      "execution_count": 156,
      "outputs": []
    },
    {
      "cell_type": "code",
      "source": [
        "Hii = -factor * 2 / dx**2 * np.ones(N) + V\n",
        "Hij = factor /dx**2 * np.ones(N-1)"
      ],
      "metadata": {
        "id": "Z0J9OqVWcxHV"
      },
      "execution_count": 157,
      "outputs": []
    },
    {
      "cell_type": "code",
      "source": [
        "w, v = eigh_tridiagonal(Hii, Hij)"
      ],
      "metadata": {
        "id": "8GRnxnfCc9FR"
      },
      "execution_count": 158,
      "outputs": []
    },
    {
      "cell_type": "code",
      "source": [
        "for i in range(0,3):\n",
        "  psi = v[:, i]\n",
        "  plt.plot(x, psi**2, label = 'n =' + str(i+1))\n",
        "plt.legend()"
      ],
      "metadata": {
        "colab": {
          "base_uri": "https://localhost:8080/",
          "height": 448
        },
        "id": "RhMoj7RFdBcO",
        "outputId": "88d7423a-c653-4538-9223-eb57a2e6d93a"
      },
      "execution_count": 159,
      "outputs": [
        {
          "output_type": "execute_result",
          "data": {
            "text/plain": [
              "<matplotlib.legend.Legend at 0x7c6caa2f9dc0>"
            ]
          },
          "metadata": {},
          "execution_count": 159
        },
        {
          "output_type": "display_data",
          "data": {
            "text/plain": [
              "<Figure size 640x480 with 1 Axes>"
            ],
            "image/png": "[encoded data removed]"
          },
          "metadata": {}
        }
      ]
    },
    {
      "cell_type": "code",
      "source": [
        "eigenvalues = w\n",
        "for i in range(10):\n",
        "  print(i+1, eigenvalues[i])"
      ],
      "metadata": {
        "colab": {
          "base_uri": "https://localhost:8080/"
        },
        "id": "6WAr7Ym-dB7s",
        "outputId": "15e2588e-8106-4e36-fb53-6465a75b160b"
      },
      "execution_count": 160,
      "outputs": [
        {
          "output_type": "stream",
          "name": "stdout",
          "text": [
            "1 0.1380182883217101\n",
            "2 0.41404861454045405\n",
            "3 0.6900664394853128\n",
            "4 0.9660717623069685\n",
            "5 1.2420645821556704\n",
            "6 1.5180448981816859\n",
            "7 1.7940127095349296\n",
            "8 2.069968015365257\n",
            "9 2.345910814822159\n",
            "10 2.6218411070551397\n"
          ]
        }
      ]
    },
    {
      "cell_type": "markdown",
      "source": [
        "Exact solution\n",
        "\n",
        "* $\\omega = \\sqrt{k/m}$\n",
        "* electron_mass = kg\n",
        "* k = eV/ nm^2\n",
        "* J = kgm^2 /s^2\n",
        "* \\omega = eV/nm^2/kg = [eV/J]J/kg/nm^2 = [eV/J][m/nm][m/nm]"
      ],
      "metadata": {
        "id": "C18SfBVmddt2"
      }
    },
    {
      "cell_type": "code",
      "source": [
        "omega = np.sqrt(k*electron_volt / electron_mass * 10**18)\n"
      ],
      "metadata": {
        "id": "BQWj5zMLda4_"
      },
      "execution_count": 161,
      "outputs": []
    },
    {
      "cell_type": "markdown",
      "source": [
        "#hbar = J/ Hz"
      ],
      "metadata": {
        "id": "ao9MNJrgeS89"
      }
    },
    {
      "cell_type": "code",
      "source": [
        "for i in range(10):\n",
        "  print(omega * hbar * (i + 0.5) / electron_volt)"
      ],
      "metadata": {
        "colab": {
          "base_uri": "https://localhost:8080/"
        },
        "id": "HAzS8lV1ePTh",
        "outputId": "51930742-af59-4c7f-e2a4-6dd39cc5c6c7"
      },
      "execution_count": 162,
      "outputs": [
        {
          "output_type": "stream",
          "name": "stdout",
          "text": [
            "0.1380214133924259\n",
            "0.4140642401772777\n",
            "0.6901070669621296\n",
            "0.9661498937469813\n",
            "1.2421927205318333\n",
            "1.518235547316685\n",
            "1.794278374101537\n",
            "2.0703212008863887\n",
            "2.3463640276712407\n",
            "2.6224068544560923\n"
          ]
        }
      ]
    },
    {
      "cell_type": "code",
      "source": [],
      "metadata": {
        "id": "Xi5-rytGehUw"
      },
      "execution_count": null,
      "outputs": []
    }
  ]
}